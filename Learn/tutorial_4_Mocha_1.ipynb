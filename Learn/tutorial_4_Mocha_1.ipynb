{
 "cells": [
  {
   "cell_type": "markdown",
   "metadata": {},
   "source": [
    "## Training LeNet on MNIST"
   ]
  },
  {
   "cell_type": "markdown",
   "metadata": {},
   "source": [
    "### 1.) Preparing the Data\n",
    "\n",
    "data/train.hdf5 and data/test.hdf5 will be generated."
   ]
  },
  {
   "cell_type": "markdown",
   "metadata": {},
   "source": [
    "### 2.)Defining the Network Architecture"
   ]
  },
  {
   "cell_type": "code",
   "execution_count": 1,
   "metadata": {},
   "outputs": [
    {
     "name": "stdout",
     "output_type": "stream",
     "text": [
      "Configuring Mocha...\n",
      " * CUDA       disabled by default\n",
      " * Native Ext disabled by default\n",
      "Mocha configured, continue loading module...\n",
      "DefaultBackend = Mocha.CPUBackend\n"
     ]
    }
   ],
   "source": [
    "using Mocha"
   ]
  },
  {
   "cell_type": "code",
   "execution_count": 2,
   "metadata": {},
   "outputs": [
    {
     "data": {
      "text/plain": [
       "Mocha.InnerProductLayer(ip2)"
      ]
     },
     "execution_count": 2,
     "metadata": {},
     "output_type": "execute_result"
    }
   ],
   "source": [
    "data_layer=Mocha.HDF5DataLayer(name=\"train-data\",source=\"data/train.txt\",batch_size=64,shuffle=true)\n",
    "conv1_layer=Mocha.ConvolutionLayer(name=\"conv1\",n_filter=20,kernel=(5,5),bottoms=[:data],tops=[:conv1])\n",
    "\n",
    "pool_layer=Mocha.PoolingLayer(name=\"pool1\",kernel=(2,2),stride=(2,2),bottoms=[:conv1],tops=[:pool1])\n",
    "conv2_layer=Mocha.ConvolutionLayer(name=\"conv2\",kernel=(5,5),n_filter=50,bottoms=[:pool1],tops=[:conv2])\n",
    "pool2_layer=Mocha.PoolingLayer(name=\"pool2\",kernel=(2,2),stride=(2,2),bottoms=[:conv2],tops=[:pool2])\n",
    "\n",
    "fc1_layer=Mocha.InnerProductLayer(name=\"ip1\",output_dim=500,neuron=Mocha.Neurons.ReLU(),bottoms=[:pool2],tops=[:ip1])\n",
    "fc2_layer  = InnerProductLayer(name=\"ip2\", output_dim=10,bottoms=[:ip1], tops=[:ip2])"
   ]
  },
  {
   "cell_type": "markdown",
   "metadata": {},
   "source": [
    "#### 2.1) loss layer"
   ]
  },
  {
   "cell_type": "code",
   "execution_count": 3,
   "metadata": {},
   "outputs": [
    {
     "data": {
      "text/plain": [
       "Mocha.SoftmaxLossLayer(loss)"
      ]
     },
     "execution_count": 3,
     "metadata": {},
     "output_type": "execute_result"
    }
   ],
   "source": [
    "loss_layer=Mocha.SoftmaxLossLayer(name=\"loss\",bottoms=[:ip2,:label])"
   ]
  },
  {
   "cell_type": "markdown",
   "metadata": {},
   "source": [
    "#### 2.2) Configuring the Backend and Building the Network"
   ]
  },
  {
   "cell_type": "code",
   "execution_count": 4,
   "metadata": {
    "collapsed": true
   },
   "outputs": [],
   "source": [
    "backend=Mocha.CPUBackend()\n",
    "Mocha.init(backend)"
   ]
  },
  {
   "cell_type": "markdown",
   "metadata": {},
   "source": [
    "#### 2.3) common layer"
   ]
  },
  {
   "cell_type": "code",
   "execution_count": 5,
   "metadata": {},
   "outputs": [
    {
     "name": "stdout",
     "output_type": "stream",
     "text": [
      "[2018-08-16T14:57:48 | info | Mocha]: Constructing net mnist-train on Mocha.CPUBackend...\n",
      "[2018-08-16T14:57:49 | info | Mocha]: Topological sorting 8 layers...\n",
      "[2018-08-16T14:57:49 | info | Mocha]: Setup layers...\n",
      "[2018-08-16T14:57:54 | info | Mocha]: Network constructed!\n"
     ]
    },
    {
     "data": {
      "text/plain": [
       "************************************************************\n",
       "          NAME: mnist-train\n",
       "       BACKEND: Mocha.CPUBackend\n",
       "  ARCHITECTURE: 8 layers\n",
       "............................................................\n",
       " *** Mocha.HDF5DataLayer(train-data)\n",
       "    Outputs ---------------------------\n",
       "          data: Blob(28 x 28 x 1 x 64)\n",
       "         label: Blob(1 x 64)\n",
       "............................................................\n",
       " *** Mocha.ConvolutionLayer(conv1)\n",
       "    Inputs ----------------------------\n",
       "          data: Blob(28 x 28 x 1 x 64)\n",
       "    Outputs ---------------------------\n",
       "         conv1: Blob(24 x 24 x 20 x 64)\n",
       "............................................................\n",
       " *** Mocha.PoolingLayer(pool1)\n",
       "    Inputs ----------------------------\n",
       "         conv1: Blob(24 x 24 x 20 x 64)\n",
       "    Outputs ---------------------------\n",
       "         pool1: Blob(12 x 12 x 20 x 64)\n",
       "............................................................\n",
       " *** Mocha.ConvolutionLayer(conv2)\n",
       "    Inputs ----------------------------\n",
       "         pool1: Blob(12 x 12 x 20 x 64)\n",
       "    Outputs ---------------------------\n",
       "         conv2: Blob(8 x 8 x 50 x 64)\n",
       "............................................................\n",
       " *** Mocha.PoolingLayer(pool2)\n",
       "    Inputs ----------------------------\n",
       "         conv2: Blob(8 x 8 x 50 x 64)\n",
       "    Outputs ---------------------------\n",
       "         pool2: Blob(4 x 4 x 50 x 64)\n",
       "............................................................\n",
       " *** Mocha.InnerProductLayer(ip1)\n",
       "    Inputs ----------------------------\n",
       "         pool2: Blob(4 x 4 x 50 x 64)\n",
       "    Outputs ---------------------------\n",
       "           ip1: Blob(500 x 64)\n",
       "............................................................\n",
       " *** Mocha.InnerProductLayer(ip2)\n",
       "    Inputs ----------------------------\n",
       "           ip1: Blob(500 x 64)\n",
       "    Outputs ---------------------------\n",
       "           ip2: Blob(10 x 64)\n",
       "............................................................\n",
       " *** Mocha.SoftmaxLossLayer(loss)\n",
       "    Inputs ----------------------------\n",
       "           ip2: Blob(10 x 64)\n",
       "         label: Blob(1 x 64)\n",
       "************************************************************\n"
      ]
     },
     "execution_count": 5,
     "metadata": {},
     "output_type": "execute_result"
    }
   ],
   "source": [
    "common_layers=[conv1_layer,pool_layer,conv2_layer,\n",
    "    pool2_layer,fc1_layer,fc2_layer]\n",
    "net=Mocha.Net(\"mnist-train\",backend,[data_layer,common_layers...,loss_layer])"
   ]
  },
  {
   "cell_type": "markdown",
   "metadata": {},
   "source": [
    "#### 2.4) Configuring the Solver\n",
    "\n",
    "The behavior of the solver is specified by the following parameters:\n",
    "\n",
    "* max_iter:\n",
    "Max number of iterations the solver will run to train the network.\n",
    "\n",
    "* regu_coef:\n",
    "Regularization coefficient. By default, both the convolution layer and the inner product layer have L2 regularizers for their weights (and no regularization for bias). Those regularizations could be customized for each layer individually. The parameter here is a global scaling factor for all the local regularization coefficients.\n",
    "\n",
    "* mom_policy:\n",
    "This specifies the momentum policy used during training. Here we are using a fixed momentum policy of 0.9 throughout training. See the Caffe document for rules of thumb for setting the learning rate and momentum.\n",
    "\n",
    "* lr_policy:\n",
    "The learning rate policy. In this example, we are using the Inv policy with gamma = 0.001 and power = 0.75. This policy will gradually shrink the learning rate, by setting it to base_lr * (1 + gamma * iter)-power.\n",
    "\n",
    "* load_from:\n",
    "This can be a saved model file or a directory. For the latter case, the latest saved model snapshot will be loaded automatically before the solver loop starts. We will see in a minute how to configure the solver to save snapshots automatically during training.\n",
    "\n",
    "This is useful to recover from a crash, to continue training with a larger max_iter or to perform fine tuning on some pre-trained models."
   ]
  },
  {
   "cell_type": "code",
   "execution_count": 6,
   "metadata": {},
   "outputs": [
    {
     "data": {
      "text/plain": [
       "Mocha.Solver{Mocha.SGD}(Mocha.SGD(), Dict{Symbol,Any}(Pair{Symbol,Any}(:lr_policy, Mocha.LRPolicy.Inv(0.01, 0.0001, 0.75)),Pair{Symbol,Any}(:max_iter, 1000),Pair{Symbol,Any}(:load_from, \"snapshots\"),Pair{Symbol,Any}(:regu_coef, 0.0005),Pair{Symbol,Any}(:mom_policy, Mocha.MomPolicy.Fixed(0.9))), Mocha.CoffeeLounge(\"\", 1, :merge, Dict{AbstractString,Dict{Int64,AbstractFloat}}(), Mocha.CoffeeBreak[], false, 0, 0))"
      ]
     },
     "execution_count": 6,
     "metadata": {},
     "output_type": "execute_result"
    }
   ],
   "source": [
    "exp_dir=\"snapshots\"\n",
    "method=Mocha.SGD()\n",
    "params=Mocha.make_solver_parameters(method,\n",
    "    max_iter=1000,\n",
    "    regu_coef=0.0005,\n",
    "    mom_policy=Mocha.MomPolicy.Fixed(0.9),\n",
    "    lr_policy=Mocha.LRPolicy.Inv(0.01,0.0001,0.75),\n",
    "    load_from=exp_dir)\n",
    "solver=Mocha.Solver(method,params)"
   ]
  },
  {
   "cell_type": "markdown",
   "metadata": {},
   "source": [
    "#### 2.5) Coffee Breaks for the Solver"
   ]
  },
  {
   "cell_type": "markdown",
   "metadata": {},
   "source": [
    "Now our solver is ready to go. But in order to give it a healthy working plan, we provide it with some coffee breaks:"
   ]
  },
  {
   "cell_type": "code",
   "execution_count": 26,
   "metadata": {},
   "outputs": [
    {
     "data": {
      "text/plain": [
       ":merge"
      ]
     },
     "execution_count": 26,
     "metadata": {},
     "output_type": "execute_result"
    }
   ],
   "source": [
    "setup_coffee_lounge(solver,save_into=\"$exp_dir/statistics.jld\",every_n_iter=100)"
   ]
  },
  {
   "cell_type": "markdown",
   "metadata": {},
   "source": [
    "we allow the solver to have a coffee break after every 100 iterations so that it can give us a brief summary of the training process. By default TrainingSummary will print the loss function value on the last training mini-batch."
   ]
  },
  {
   "cell_type": "code",
   "execution_count": 27,
   "metadata": {},
   "outputs": [
    {
     "data": {
      "text/plain": [
       "1-element Array{Mocha.CoffeeBreak,1}:\n",
       " Mocha.CoffeeBreak(Mocha.TrainingSummary(Any[:iter, :obj_val]), 100, 0)"
      ]
     },
     "execution_count": 27,
     "metadata": {},
     "output_type": "execute_result"
    }
   ],
   "source": [
    "Mocha.add_coffee_break(solver,Mocha.TrainingSummary(),every_n_iter=100)"
   ]
  },
  {
   "cell_type": "markdown",
   "metadata": {},
   "source": [
    "We also add a coffee break to save a snapshot of the trained network every 5,000 iterations:"
   ]
  },
  {
   "cell_type": "code",
   "execution_count": 28,
   "metadata": {},
   "outputs": [
    {
     "data": {
      "text/plain": [
       "2-element Array{Mocha.CoffeeBreak,1}:\n",
       " Mocha.CoffeeBreak(Mocha.TrainingSummary(Any[:iter, :obj_val]), 100, 0)\n",
       " Mocha.CoffeeBreak(Mocha.Snapshot(\"snapshots\"), 200, 0)                "
      ]
     },
     "execution_count": 28,
     "metadata": {},
     "output_type": "execute_result"
    }
   ],
   "source": [
    "Mocha.add_coffee_break(solver,Mocha.Snapshot(exp_dir),every_n_iter=200)"
   ]
  },
  {
   "cell_type": "markdown",
   "metadata": {},
   "source": [
    "#### 2.6) evaluation\n",
    "\n",
    "We will define a new network to perform the evaluation. The evaluation network will have exactly the same architecture, except with a different data layer that reads from the validation dataset instead of the training set. We also do not need the softmax loss layer as we will not train the validation network. Instead, we will add an accuracy layer on top, which will compute the classification accuracy."
   ]
  },
  {
   "cell_type": "code",
   "execution_count": 29,
   "metadata": {},
   "outputs": [
    {
     "name": "stdout",
     "output_type": "stream",
     "text": [
      "[2018-08-16T11:39:35 | info | Mocha]: Constructing net mnist-test on Mocha.CPUBackend...\n",
      "[2018-08-16T11:39:35 | info | Mocha]: Topological sorting 8 layers...\n",
      "[2018-08-16T11:39:35 | info | Mocha]: Setup layers...\n",
      "[2018-08-16T11:39:35 | info | Mocha]: Network constructed!\n"
     ]
    },
    {
     "data": {
      "text/plain": [
       "3-element Array{Mocha.CoffeeBreak,1}:\n",
       " Mocha.CoffeeBreak(Mocha.TrainingSummary(Any[:iter, :obj_val]), 100, 0)                                                                                                                                                                                                                                                                                                                                                                                                                                                                                                                                                                                                                                                                                                                                                                                                                                                                                                                                                                                                                                                                                                                                                                                                                                                                                                                                                                                                                                                                                                                                                                                                                                                                                                                                                                                                                                                                                                                                                                                                                                                                                                                                                                                                    \n",
       " Mocha.CoffeeBreak(Mocha.Snapshot(\"snapshots\"), 200, 0)                                                                                                                                                                                                                                                                                                                                                                                                                                                                                                                                                                                                                                                                                                                                                                                                                                                                                                                                                                                                                                                                                                                                                                                                                                                                                                                                                                                                                                                                                                                                                                                                                                                                                                                                                                                                                                                                                                                                                                                                                                                                                                                                                                                                                    \n",
       " Mocha.CoffeeBreak(Mocha.ValidationPerformance(************************************************************\n",
       "          NAME: mnist-test\n",
       "       BACKEND: Mocha.CPUBackend\n",
       "  ARCHITECTURE: 8 layers\n",
       "............................................................\n",
       " *** Mocha.HDF5DataLayer(test-data)\n",
       "    Outputs ---------------------------\n",
       "          data: Blob(28 x 28 x 1 x 100)\n",
       "         label: Blob(1 x 100)\n",
       "............................................................\n",
       " *** Mocha.ConvolutionLayer(conv1)\n",
       "    Inputs ----------------------------\n",
       "          data: Blob(28 x 28 x 1 x 100)\n",
       "    Outputs ---------------------------\n",
       "         conv1: Blob(24 x 24 x 20 x 100)\n",
       "............................................................\n",
       " *** Mocha.PoolingLayer(pool1)\n",
       "    Inputs ----------------------------\n",
       "         conv1: Blob(24 x 24 x 20 x 100)\n",
       "    Outputs ---------------------------\n",
       "         pool1: Blob(12 x 12 x 20 x 100)\n",
       "............................................................\n",
       " *** Mocha.ConvolutionLayer(conv2)\n",
       "    Inputs ----------------------------\n",
       "         pool1: Blob(12 x 12 x 20 x 100)\n",
       "    Outputs ---------------------------\n",
       "         conv2: Blob(8 x 8 x 50 x 100)\n",
       "............................................................\n",
       " *** Mocha.PoolingLayer(pool2)\n",
       "    Inputs ----------------------------\n",
       "         conv2: Blob(8 x 8 x 50 x 100)\n",
       "    Outputs ---------------------------\n",
       "         pool2: Blob(4 x 4 x 50 x 100)\n",
       "............................................................\n",
       " *** Mocha.InnerProductLayer(ip1)\n",
       "    Inputs ----------------------------\n",
       "         pool2: Blob(4 x 4 x 50 x 100)\n",
       "    Outputs ---------------------------\n",
       "           ip1: Blob(500 x 100)\n",
       "............................................................\n",
       " *** Mocha.InnerProductLayer(ip2)\n",
       "    Inputs ----------------------------\n",
       "           ip1: Blob(500 x 100)\n",
       "    Outputs ---------------------------\n",
       "           ip2: Blob(10 x 100)\n",
       "............................................................\n",
       " *** Mocha.AccuracyLayer(test-accuracy)\n",
       "    Inputs ----------------------------\n",
       "           ip2: Blob(10 x 100)\n",
       "         label: Blob(1 x 100)\n",
       "************************************************************\n",
       ", Function[]), 1000, 0)"
      ]
     },
     "execution_count": 29,
     "metadata": {},
     "output_type": "execute_result"
    }
   ],
   "source": [
    "data_layer_test=Mocha.HDF5DataLayer(name=\"test-data\",source=\"data/test.txt\",batch_size=100)\n",
    "acc_layer=Mocha.AccuracyLayer(name=\"test-accuracy\",bottoms=[:ip2,:label])\n",
    "test_net=Mocha.Net(\"mnist-test\",backend,[data_layer_test,common_layers...,acc_layer])\n",
    "\n",
    "add_coffee_break(solver, ValidationPerformance(test_net), every_n_iter=1000)"
   ]
  },
  {
   "cell_type": "markdown",
   "metadata": {},
   "source": [
    "#### 2.7) training"
   ]
  },
  {
   "cell_type": "code",
   "execution_count": 30,
   "metadata": {},
   "outputs": [
    {
     "name": "stdout",
     "output_type": "stream",
     "text": [
      "[2018-08-16T11:39:37 | info | Mocha]: Loading existing model from snapshots/snapshot-000100.jld\n",
      "[2018-08-16T11:39:38 | info | Mocha]: Merging existing coffee lounge statistics in snapshots/statistics.jld\n",
      "[2018-08-16T11:39:38 | info | Mocha]: Snapshot directory snapshots already exists\n",
      "[2018-08-16T11:39:38 | info | Mocha]:  TRAIN iter=000100 obj_val=0.18518095\n",
      "[2018-08-16T11:40:26 | info | Mocha]:  TRAIN iter=000200 obj_val=0.15600210\n",
      "[2018-08-16T11:40:26 | info | Mocha]: Saving snapshot to snapshot-000200.jld...\n",
      "[2018-08-16T11:41:13 | info | Mocha]:  TRAIN iter=000300 obj_val=0.16219212\n",
      "[2018-08-16T11:41:57 | info | Mocha]:  TRAIN iter=000400 obj_val=0.19488037\n",
      "[2018-08-16T11:41:57 | info | Mocha]: Saving snapshot to snapshot-000400.jld...\n",
      "[2018-08-16T11:42:42 | info | Mocha]:  TRAIN iter=000500 obj_val=0.06549215\n",
      "[2018-08-16T11:43:25 | info | Mocha]:  TRAIN iter=000600 obj_val=0.08592009\n",
      "[2018-08-16T11:43:25 | info | Mocha]: Saving snapshot to snapshot-000600.jld...\n",
      "[2018-08-16T11:44:11 | info | Mocha]:  TRAIN iter=000700 obj_val=0.02547344\n",
      "[2018-08-16T11:44:56 | info | Mocha]:  TRAIN iter=000800 obj_val=0.11308122\n",
      "[2018-08-16T11:44:56 | info | Mocha]: Saving snapshot to snapshot-000800.jld...\n",
      "[2018-08-16T11:45:41 | info | Mocha]:  TRAIN iter=000900 obj_val=0.04709480\n",
      "[2018-08-16T11:46:23 | info | Mocha]:  TRAIN iter=001000 obj_val=0.04583274\n",
      "[2018-08-16T11:46:23 | info | Mocha]: Saving snapshot to snapshot-001000.jld...\n",
      "[2018-08-16T11:47:15 | info | Mocha]: \n",
      "[2018-08-16T11:47:15 | info | Mocha]: ## Performance on Validation Set after 1000 iterations\n",
      "[2018-08-16T11:47:15 | info | Mocha]: ---------------------------------------------------------\n",
      "[2018-08-16T11:47:15 | info | Mocha]:   Accuracy (avg over 10000) = 10.6700%\n",
      "[2018-08-16T11:47:15 | info | Mocha]: ---------------------------------------------------------\n",
      "[2018-08-16T11:47:15 | info | Mocha]: \n"
     ]
    },
    {
     "data": {
      "text/plain": [
       "Dict{AbstractString,Array{Mocha.AbstractParameter,1}} with 0 entries"
      ]
     },
     "execution_count": 30,
     "metadata": {},
     "output_type": "execute_result"
    }
   ],
   "source": [
    "Mocha.solve(solver,net)\n",
    "destroy(net)\n",
    "destroy(test_net)\n",
    "shutdown(backend)"
   ]
  },
  {
   "cell_type": "markdown",
   "metadata": {},
   "source": [
    "### 3) Using Saved Snapshots for Prediction"
   ]
  },
  {
   "cell_type": "code",
   "execution_count": 7,
   "metadata": {},
   "outputs": [
    {
     "name": "stdout",
     "output_type": "stream",
     "text": [
      "[2018-08-16T12:23:01 | info | Mocha]: Constructing net imagenet on Mocha.CPUBackend...\n",
      "[2018-08-16T12:23:01 | info | Mocha]: Topological sorting 8 layers...\n",
      "[2018-08-16T12:23:01 | info | Mocha]: Setup layers...\n",
      "[2018-08-16T12:23:01 | info | Mocha]: Network constructed!\n"
     ]
    },
    {
     "data": {
      "text/plain": [
       "************************************************************\n",
       "          NAME: imagenet\n",
       "       BACKEND: Mocha.CPUBackend\n",
       "  ARCHITECTURE: 8 layers\n",
       "............................................................\n",
       " *** Mocha.MemoryDataLayer(data)\n",
       "    Outputs ---------------------------\n",
       "          data: Blob(28 x 28 x 1 x 1)\n",
       "............................................................\n",
       " *** Mocha.ConvolutionLayer(conv1)\n",
       "    Inputs ----------------------------\n",
       "          data: Blob(28 x 28 x 1 x 1)\n",
       "    Outputs ---------------------------\n",
       "         conv1: Blob(24 x 24 x 20 x 1)\n",
       "............................................................\n",
       " *** Mocha.PoolingLayer(pool1)\n",
       "    Inputs ----------------------------\n",
       "         conv1: Blob(24 x 24 x 20 x 1)\n",
       "    Outputs ---------------------------\n",
       "         pool1: Blob(12 x 12 x 20 x 1)\n",
       "............................................................\n",
       " *** Mocha.ConvolutionLayer(conv2)\n",
       "    Inputs ----------------------------\n",
       "         pool1: Blob(12 x 12 x 20 x 1)\n",
       "    Outputs ---------------------------\n",
       "         conv2: Blob(8 x 8 x 50 x 1)\n",
       "............................................................\n",
       " *** Mocha.PoolingLayer(pool2)\n",
       "    Inputs ----------------------------\n",
       "         conv2: Blob(8 x 8 x 50 x 1)\n",
       "    Outputs ---------------------------\n",
       "         pool2: Blob(4 x 4 x 50 x 1)\n",
       "............................................................\n",
       " *** Mocha.InnerProductLayer(ip1)\n",
       "    Inputs ----------------------------\n",
       "         pool2: Blob(4 x 4 x 50 x 1)\n",
       "    Outputs ---------------------------\n",
       "           ip1: Blob(500 x 1)\n",
       "............................................................\n",
       " *** Mocha.InnerProductLayer(ip2)\n",
       "    Inputs ----------------------------\n",
       "           ip1: Blob(500 x 1)\n",
       "    Outputs ---------------------------\n",
       "           ip2: Blob(10 x 1)\n",
       "............................................................\n",
       " *** Mocha.SoftmaxLayer(prob)\n",
       "    Inputs ----------------------------\n",
       "           ip2: Blob(10 x 1)\n",
       "    Outputs ---------------------------\n",
       "          prob: Blob(10 x 1)\n",
       "************************************************************\n"
      ]
     },
     "execution_count": 7,
     "metadata": {},
     "output_type": "execute_result"
    }
   ],
   "source": [
    "using Mocha\n",
    "backend = Mocha.CPUBackend()\n",
    "Mocha.init(backend)\n",
    "\n",
    "mem_data = Mocha.MemoryDataLayer(name=\"data\", tops=[:data], batch_size=1,\n",
    "    data=Array[zeros(Float32, 28, 28, 1, 1)])\n",
    "softmax_layer = Mocha.SoftmaxLayer(name=\"prob\", tops=[:prob], bottoms=[:ip2])\n",
    "\n",
    "# define common_layers as earlier\n",
    "\n",
    "run_net = Mocha.Net(\"imagenet\", backend, [mem_data, common_layers..., softmax_layer])"
   ]
  },
  {
   "cell_type": "code",
   "execution_count": 11,
   "metadata": {},
   "outputs": [
    {
     "name": "stdout",
     "output_type": "stream",
     "text": [
      "[2018-08-16T12:24:40 | info | Mocha]: Loading existing model from snapshots/snapshot-001000.jld\n",
      "Correct label index: 9\n"
     ]
    }
   ],
   "source": [
    "using  HDF5\n",
    "\n",
    "load_snapshot(run_net, \"snapshots/snapshot-001000.jld\")\n",
    "HDF5.h5open(\"data/test.hdf5\") do f\n",
    "    Mocha.get_layer(run_net,\"data\").data[1][:,:,1,1]=f[\"data\"][:,:,1,1]\n",
    "    println(\"Correct label index: \", Int64(f[\"label\"][:,1][1]+1))\n",
    "end"
   ]
  },
  {
   "cell_type": "code",
   "execution_count": 12,
   "metadata": {},
   "outputs": [
    {
     "name": "stdout",
     "output_type": "stream",
     "text": [
      "\n",
      "Label probability vector:\n",
      "Float32[1.81059f-7; 3.09175f-8; 1.01611f-6; 2.9032f-7; 2.12532f-8; 0.00321177; 2.17417f-6; 5.26392f-7; 0.996783; 1.0967f-6]\n"
     ]
    }
   ],
   "source": [
    "Mocha.forward(run_net)\n",
    "println()\n",
    "println(\"Label probability vector:\")\n",
    "println(run_net.output_blobs[:prob].data)"
   ]
  },
  {
   "cell_type": "markdown",
   "metadata": {},
   "source": [
    "### 4.)Checking The Solver’s Progress with Learning Curves"
   ]
  },
  {
   "cell_type": "code",
   "execution_count": 14,
   "metadata": {},
   "outputs": [
    {
     "data": {
      "image/png": "[encoded data removed]",
      "text/plain": [
       "PyPlot.Figure(PyObject <matplotlib.figure.Figure object at 0x7fa1c4143e10>)"
      ]
     },
     "metadata": {},
     "output_type": "display_data"
    }
   ],
   "source": [
    "using PyPlot,JLD\n",
    "stats=JLD.load(\"snapshots/statistics.jld\")\n",
    "\n",
    "tables=stats[\"statistics\"]\n",
    "ov = tables[\"obj_val\"]\n",
    "xy = sort(collect(ov))\n",
    "x = [i for (i,j) in xy]\n",
    "y = [j for (i,j) in xy]\n",
    "x = convert(Array{Int64}, x)\n",
    "y = convert(Array{Float64}, y)\n",
    "\n",
    "raw = PyPlot.plot(x, y, linewidth=1, label=\"Raw\")\n",
    "PyPlot.xlabel(\"Iterations\")\n",
    "PyPlot.ylabel(\"Objective Value\")\n",
    "PyPlot.title(\"MNIST Learning Curve\")\n",
    "PyPlot.grid(\"on\")"
   ]
  },
  {
   "cell_type": "code",
   "execution_count": null,
   "metadata": {
    "collapsed": true
   },
   "outputs": [],
   "source": []
  }
 ],
 "metadata": {
  "kernelspec": {
   "display_name": "Julia 0.6.4",
   "language": "julia",
   "name": "julia-0.6"
  },
  "language_info": {
   "file_extension": ".jl",
   "mimetype": "application/julia",
   "name": "julia",
   "version": "0.6.4"
  }
 },
 "nbformat": 4,
 "nbformat_minor": 2
}
