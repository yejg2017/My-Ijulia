{
 "cells": [
  {
   "cell_type": "markdown",
   "metadata": {
    "collapsed": true
   },
   "source": [
    "### Introduction to DataFrames\n",
    "Bogumił Kamiński, July 25, 2018\n",
    "\n",
    "Let's get started by loading the DataFrames package."
   ]
  },
  {
   "cell_type": "code",
   "execution_count": 1,
   "metadata": {
    "collapsed": true
   },
   "outputs": [],
   "source": [
    "using DataFrames"
   ]
  },
  {
   "cell_type": "markdown",
   "metadata": {},
   "source": [
    "### Constructors and conversion\n",
    "#### Constructors\n",
    "In this section, you'll see many ways to create a DataFrame using the DataFrame() constructor.\n",
    "\n",
    "First, we could create an empty DataFrame,"
   ]
  },
  {
   "cell_type": "code",
   "execution_count": 2,
   "metadata": {},
   "outputs": [
    {
     "data": {
      "text/html": [
       "<table class=\"data-frame\"><thead><tr><th></th></tr></thead><tbody></tbody></table>"
      ],
      "text/plain": [
       "0×0 DataFrame\n"
      ]
     },
     "execution_count": 2,
     "metadata": {},
     "output_type": "execute_result"
    }
   ],
   "source": [
    "DataFrame()"
   ]
  },
  {
   "cell_type": "markdown",
   "metadata": {},
   "source": [
    "##### Or we could call the constructor using keyword arguments to add columns to the DataFrame."
   ]
  },
  {
   "cell_type": "code",
   "execution_count": 5,
   "metadata": {},
   "outputs": [
    {
     "name": "stderr",
     "output_type": "stream",
     "text": [
      "WARNING: Base.randstring is deprecated: it has been moved to the standard library package `Random`.\n",
      "Add `using Random` to your imports.\n",
      "  likely near In[5]:1\n"
     ]
    },
    {
     "data": {
      "text/html": [
       "<table class=\"data-frame\"><thead><tr><th></th><th>A</th><th>B</th><th>C</th></tr></thead><tbody><tr><th>1</th><td>1</td><td>0.534296</td><td>VV7</td></tr><tr><th>2</th><td>2</td><td>0.0300075</td><td>h6C</td></tr><tr><th>3</th><td>3</td><td>0.128319</td><td>xg6</td></tr></tbody></table>"
      ],
      "text/plain": [
       "3×3 DataFrame\n",
       "│ Row │ A │ B         │ C   │\n",
       "├─────┼───┼───────────┼─────┤\n",
       "│ 1   │ 1 │ 0.534296  │ VV7 │\n",
       "│ 2   │ 2 │ 0.0300075 │ h6C │\n",
       "│ 3   │ 3 │ 0.128319  │ xg6 │"
      ]
     },
     "execution_count": 5,
     "metadata": {},
     "output_type": "execute_result"
    }
   ],
   "source": [
    "DataFrame(A=1:3,B=rand(3),C=randstring.([3,3,3]))"
   ]
  },
  {
   "cell_type": "code",
   "execution_count": 7,
   "metadata": {},
   "outputs": [
    {
     "data": {
      "text/html": [
       "<table class=\"data-frame\"><thead><tr><th></th><th>A</th><th>B</th><th>C</th></tr></thead><tbody><tr><th>1</th><td>1</td><td>a</td><td>true</td></tr><tr><th>2</th><td>2</td><td>b</td><td>false</td></tr></tbody></table>"
      ],
      "text/plain": [
       "2×3 DataFrame\n",
       "│ Row │ A │ B │ C     │\n",
       "├─────┼───┼───┼───────┤\n",
       "│ 1   │ 1 │ a │ true  │\n",
       "│ 2   │ 2 │ b │ false │"
      ]
     },
     "execution_count": 7,
     "metadata": {},
     "output_type": "execute_result"
    }
   ],
   "source": [
    "x=Dict(\"A\"=>[1,2],\"B\"=>[\"a\",\"b\"],\"C\"=>[true,false])\n",
    "DataFrame(x)"
   ]
  },
  {
   "cell_type": "markdown",
   "metadata": {},
   "source": [
    "Rather than explicitly creating a dictionary first, as above, we could pass DataFrame arguments with the syntax of dictionary key-value pairs.\n",
    "\n",
    "Note that in this case, we use symbols to denote the column names and arguments are not sorted. For example, :A, the symbol, produces A, the name of the first column here:"
   ]
  },
  {
   "cell_type": "code",
   "execution_count": 8,
   "metadata": {},
   "outputs": [
    {
     "data": {
      "text/html": [
       "<table class=\"data-frame\"><thead><tr><th></th><th>A</th><th>B</th><th>C</th></tr></thead><tbody><tr><th>1</th><td>0.691821</td><td>a</td><td>true</td></tr><tr><th>2</th><td>0.232557</td><td>b</td><td>false</td></tr></tbody></table>"
      ],
      "text/plain": [
       "2×3 DataFrame\n",
       "│ Row │ A        │ B │ C     │\n",
       "├─────┼──────────┼───┼───────┤\n",
       "│ 1   │ 0.691821 │ a │ true  │\n",
       "│ 2   │ 0.232557 │ b │ false │"
      ]
     },
     "execution_count": 8,
     "metadata": {},
     "output_type": "execute_result"
    }
   ],
   "source": [
    "DataFrame(:A=>rand(2),:B=>[\"a\",\"b\"],:C=>[true,false])"
   ]
  },
  {
   "cell_type": "markdown",
   "metadata": {},
   "source": [
    "Pass a second argument to give the columns names."
   ]
  },
  {
   "cell_type": "code",
   "execution_count": 9,
   "metadata": {},
   "outputs": [
    {
     "data": {
      "text/html": [
       "<table class=\"data-frame\"><thead><tr><th></th><th>A</th><th>B</th><th>C</th></tr></thead><tbody><tr><th>1</th><td>1</td><td>4</td><td>7</td></tr><tr><th>2</th><td>2</td><td>5</td><td>8</td></tr><tr><th>3</th><td>3</td><td>6</td><td>9</td></tr></tbody></table>"
      ],
      "text/plain": [
       "3×3 DataFrame\n",
       "│ Row │ A │ B │ C │\n",
       "├─────┼───┼───┼───┤\n",
       "│ 1   │ 1 │ 4 │ 7 │\n",
       "│ 2   │ 2 │ 5 │ 8 │\n",
       "│ 3   │ 3 │ 6 │ 9 │"
      ]
     },
     "execution_count": 9,
     "metadata": {},
     "output_type": "execute_result"
    }
   ],
   "source": [
    "DataFrame([1:3,4:6,7:9],[:A,:B,:C])"
   ]
  },
  {
   "cell_type": "markdown",
   "metadata": {},
   "source": [
    "\n",
    "Here we create a DataFrame from a matrix,"
   ]
  },
  {
   "cell_type": "code",
   "execution_count": 10,
   "metadata": {},
   "outputs": [
    {
     "data": {
      "text/html": [
       "<table class=\"data-frame\"><thead><tr><th></th><th>x1</th><th>x2</th><th>x3</th><th>x4</th></tr></thead><tbody><tr><th>1</th><td>0.926772</td><td>0.547195</td><td>0.648547</td><td>0.503928</td></tr><tr><th>2</th><td>0.917894</td><td>0.266197</td><td>0.30814</td><td>0.740986</td></tr><tr><th>3</th><td>0.0381707</td><td>0.699405</td><td>0.993821</td><td>0.527116</td></tr></tbody></table>"
      ],
      "text/plain": [
       "3×4 DataFrame\n",
       "│ Row │ x1        │ x2       │ x3       │ x4       │\n",
       "├─────┼───────────┼──────────┼──────────┼──────────┤\n",
       "│ 1   │ 0.926772  │ 0.547195 │ 0.648547 │ 0.503928 │\n",
       "│ 2   │ 0.917894  │ 0.266197 │ 0.30814  │ 0.740986 │\n",
       "│ 3   │ 0.0381707 │ 0.699405 │ 0.993821 │ 0.527116 │"
      ]
     },
     "execution_count": 10,
     "metadata": {},
     "output_type": "execute_result"
    }
   ],
   "source": [
    "DataFrame(rand(3,4))"
   ]
  },
  {
   "cell_type": "code",
   "execution_count": 11,
   "metadata": {},
   "outputs": [
    {
     "data": {
      "text/html": [
       "<table class=\"data-frame\"><thead><tr><th></th><th>a</th><th>b</th><th>c</th><th>d</th></tr></thead><tbody><tr><th>1</th><td>0.0500302</td><td>0.806752</td><td>0.565299</td><td>0.835141</td></tr><tr><th>2</th><td>0.510626</td><td>0.456285</td><td>0.715045</td><td>0.797076</td></tr><tr><th>3</th><td>0.128075</td><td>0.471924</td><td>0.427107</td><td>0.941769</td></tr></tbody></table>"
      ],
      "text/plain": [
       "3×4 DataFrame\n",
       "│ Row │ a         │ b        │ c        │ d        │\n",
       "├─────┼───────────┼──────────┼──────────┼──────────┤\n",
       "│ 1   │ 0.0500302 │ 0.806752 │ 0.565299 │ 0.835141 │\n",
       "│ 2   │ 0.510626  │ 0.456285 │ 0.715045 │ 0.797076 │\n",
       "│ 3   │ 0.128075  │ 0.471924 │ 0.427107 │ 0.941769 │"
      ]
     },
     "execution_count": 11,
     "metadata": {},
     "output_type": "execute_result"
    }
   ],
   "source": [
    "DataFrame(rand(3,4), Symbol.('a':'d'))"
   ]
  },
  {
   "cell_type": "markdown",
   "metadata": {},
   "source": [
    "We can also construct an uninitialized DataFrame.\n",
    "\n",
    "Here we pass column types, names and number of rows; we get missing in column :C because Any >: Missing."
   ]
  },
  {
   "cell_type": "code",
   "execution_count": 14,
   "metadata": {},
   "outputs": [
    {
     "data": {
      "text/html": [
       "<table class=\"data-frame\"><thead><tr><th></th><th>A</th><th>B</th><th>C</th></tr></thead><tbody><tr><th>1</th><td>139929756403920</td><td>6.91345e-310</td><td>#undef</td></tr><tr><th>2</th><td>139928372720784</td><td>6.91345e-310</td><td>#undef</td></tr></tbody></table>"
      ],
      "text/plain": [
       "2×3 DataFrame\n",
       "│ Row │ A               │ B            │ C      │\n",
       "├─────┼─────────────────┼──────────────┼────────┤\n",
       "│ 1   │ 139929756403920 │ 6.91345e-310 │ #undef │\n",
       "│ 2   │ 139928372720784 │ 6.91345e-310 │ #undef │"
      ]
     },
     "execution_count": 14,
     "metadata": {},
     "output_type": "execute_result"
    }
   ],
   "source": [
    "DataFrame([Int,Float64,String],[:A,:B,:C],2)"
   ]
  },
  {
   "cell_type": "markdown",
   "metadata": {},
   "source": [
    "This syntax gives us a quick way to create homogenous DataFrame."
   ]
  },
  {
   "cell_type": "code",
   "execution_count": 16,
   "metadata": {},
   "outputs": [
    {
     "data": {
      "text/html": [
       "<table class=\"data-frame\"><thead><tr><th></th><th>x1</th><th>x2</th><th>x3</th><th>x4</th><th>x5</th></tr></thead><tbody><tr><th>1</th><td>281479271677952</td><td>281479271677952</td><td>282574488338432</td><td>281479271677952</td><td>281479271677952</td></tr><tr><th>2</th><td>139925739536384</td><td>0</td><td>139925739536384</td><td>139925739536384</td><td>139925739536384</td></tr><tr><th>3</th><td>0</td><td>0</td><td>0</td><td>0</td><td>0</td></tr></tbody></table>"
      ],
      "text/plain": [
       "3×5 DataFrame. Omitted printing of 1 columns\n",
       "│ Row │ x1              │ x2              │ x3              │ x4              │\n",
       "├─────┼─────────────────┼─────────────────┼─────────────────┼─────────────────┤\n",
       "│ 1   │ 281479271677952 │ 281479271677952 │ 282574488338432 │ 281479271677952 │\n",
       "│ 2   │ 139925739536384 │ 0               │ 139925739536384 │ 139925739536384 │\n",
       "│ 3   │ 0               │ 0               │ 0               │ 0               │"
      ]
     },
     "execution_count": 16,
     "metadata": {},
     "output_type": "execute_result"
    }
   ],
   "source": [
    "DataFrame(Int,3,5)"
   ]
  },
  {
   "cell_type": "code",
   "execution_count": 17,
   "metadata": {},
   "outputs": [
    {
     "data": {
      "text/html": [
       "<table class=\"data-frame\"><thead><tr><th></th><th>x1</th><th>x2</th></tr></thead><tbody><tr><th>1</th><td>282574488338432</td><td>1.39069e-309</td></tr><tr><th>2</th><td>139925739536384</td><td>6.91325e-310</td></tr><tr><th>3</th><td>0</td><td>0.0</td></tr><tr><th>4</th><td>0</td><td>0.0</td></tr></tbody></table>"
      ],
      "text/plain": [
       "4×2 DataFrame\n",
       "│ Row │ x1              │ x2           │\n",
       "├─────┼─────────────────┼──────────────┤\n",
       "│ 1   │ 282574488338432 │ 1.39069e-309 │\n",
       "│ 2   │ 139925739536384 │ 6.91325e-310 │\n",
       "│ 3   │ 0               │ 0.0          │\n",
       "│ 4   │ 0               │ 0.0          │"
      ]
     },
     "execution_count": 17,
     "metadata": {},
     "output_type": "execute_result"
    }
   ],
   "source": [
    "DataFrame([Int, Float64], 4)"
   ]
  },
  {
   "cell_type": "code",
   "execution_count": null,
   "metadata": {
    "collapsed": true
   },
   "outputs": [],
   "source": []
  }
 ],
 "metadata": {
  "kernelspec": {
   "display_name": "Julia 0.7.0",
   "language": "julia",
   "name": "julia-0.7"
  },
  "language_info": {
   "file_extension": ".jl",
   "mimetype": "application/julia",
   "name": "julia",
   "version": "0.7.0"
  }
 },
 "nbformat": 4,
 "nbformat_minor": 2
}
