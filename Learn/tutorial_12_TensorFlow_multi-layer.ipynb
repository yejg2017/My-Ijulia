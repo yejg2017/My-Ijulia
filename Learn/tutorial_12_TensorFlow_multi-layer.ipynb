{
 "cells": [
  {
   "cell_type": "markdown",
   "metadata": {},
   "source": [
    "### Build a multi-layer convolutional network"
   ]
  },
  {
   "cell_type": "code",
   "execution_count": 1,
   "metadata": {},
   "outputs": [],
   "source": [
    "using TensorFlow\n",
    "#using MNIST\n",
    "using Distributions\n",
    "using MLBase"
   ]
  },
  {
   "cell_type": "markdown",
   "metadata": {
    "collapsed": true
   },
   "source": [
    "##### prepare images list"
   ]
  },
  {
   "cell_type": "code",
   "execution_count": 41,
   "metadata": {},
   "outputs": [
    {
     "name": "stderr",
     "output_type": "stream",
     "text": [
      "WARNING: Base.shuffle is deprecated: it has been moved to the standard library package `Random`.\n",
      "Add `using Random` to your imports.\n",
      "  likely near /home/ye/.julia/packages/IJulia/fDY4W/src/kernel.jl:38\n",
      "WARNING: Base.shuffle is deprecated: it has been moved to the standard library package `Random`.\n",
      "Add `using Random` to your imports.\n",
      "  likely near /home/ye/.julia/packages/IJulia/fDY4W/src/kernel.jl:38\n"
     ]
    }
   ],
   "source": [
    "train_dir=\"/home/ye/user/yejg/database/Kaggle_Eye/Diabetes/grades/train/\"\n",
    "test_dir=\"/home/ye/user/yejg/database/Kaggle_Eye/Diabetes/grades/test/\"\n",
    "\n",
    "images,labels=Any[],Any[]\n",
    "#images,labels=Array{string,1},Array{Int32,1}\n",
    "for dir in readdir(train_dir)\n",
    "    files=joinpath(train_dir,dir)\n",
    "    imgs=Any[]\n",
    "    labs=Any[]\n",
    "    for file in readdir(files)\n",
    "        img=joinpath(files,file)\n",
    "        imgs=vcat(imgs,img)\n",
    "        labs=vcat(labs,dir)\n",
    "    end\n",
    "    images=vcat(images,imgs)\n",
    "    labels=vcat(labels,labs)\n",
    "end\n",
    "\n",
    "lm=MLBase.labelmap(labels);\n",
    "labels=MLBase.labelencode(lm,labels);\n",
    "\n",
    "images_list=hcat(images,labels)\n",
    "idx=shuffle(1:size(images_list)[1])\n",
    "train_images=images_list[idx,:];\n",
    "\n",
    "\n",
    "#images,labels=Array{string,1},Array{Int32,1}\n",
    "images,labels=Any[],Any[]\n",
    "for dir in readdir(test_dir)\n",
    "    files=joinpath(test_dir,dir)\n",
    "    imgs=Any[]\n",
    "    labs=Any[]\n",
    "    for file in readdir(files)\n",
    "        img=joinpath(files,file)\n",
    "        imgs=vcat(imgs,img)\n",
    "        labs=vcat(labs,dir)\n",
    "    end\n",
    "    images=vcat(images,imgs)\n",
    "    labels=vcat(labels,labs)\n",
    "end\n",
    "\n",
    "lm=MLBase.labelmap(labels);\n",
    "labels=MLBase.labelencode(lm,labels);\n",
    "\n",
    "images_list=hcat(images,labels)\n",
    "idx=shuffle(1:size(images_list)[1])\n",
    "test_images=images_list[idx,:];\n",
    "\n"
   ]
  },
  {
   "cell_type": "code",
   "execution_count": 44,
   "metadata": {},
   "outputs": [
    {
     "data": {
      "text/plain": [
       "get_batch (generic function with 3 methods)"
      ]
     },
     "execution_count": 44,
     "metadata": {},
     "output_type": "execute_result"
    }
   ],
   "source": [
    "function get_batch(image, label, image_W, image_H, batch_size, capacity=256,argument=true)\n",
    "    images=TensorFlow.cast(image,string)\n",
    "    label=TensorFlow.cast(label,Int32)\n",
    "    \n",
    "    # make an input queue\n",
    "    input_queue=TensorFlow.train.slice_input_producer([image,label];capacity=capacity)\n",
    "    label=input_queue[2]\n",
    "    images_contents=TensorFlow.read_file(input_queue[1])\n",
    "    image=TensorFlow.Ops.decode_jpeg(images_contents;channels=3)\n",
    "    \n",
    "    if argument\n",
    "        image=TensorFlow.Ops.adjust_saturation(image,0.4)\n",
    "        image=TensorFlow.Ops.adjust_hue(image,0.2)\n",
    "        \n",
    "        image=TensorFlow.image.flip_left_right(image)\n",
    "        image=TensorFlow.image.flip_up_down(image)\n",
    "        image=TensorFlow.Ops.resize_bilinear(image,[image_W,image_H])\n",
    "    else\n",
    "        image=TensorFlow.Ops.resize_bilinear(image,[image_W,image_H])\n",
    "    end\n",
    "    image_batch,label_batch=TensorFlow.train.batch([image,label],\n",
    "                                                   batch_size=batch_size,\n",
    "                                                   num_threads=64,\n",
    "                                                   capacity=capacity,allow_smaller_final_batch)\n",
    "    label_batch=TensorFlow.Ops.reshape(label_batch,[batch_size])\n",
    "    image_batch=TensorFlow.cast(image_batch,Float32)\n",
    "    return image_batch,label_batch\n",
    "end"
   ]
  },
  {
   "cell_type": "code",
   "execution_count": 45,
   "metadata": {},
   "outputs": [
    {
     "data": {
      "text/plain": [
       "956-element Array{String,1}:\n",
       " \"/home/ye/user/yejg/database/Kaggle_Eye/Diabetes/grades/test/Dr_4/31659_right.jpeg\"\n",
       " \"/home/ye/user/yejg/database/Kaggle_Eye/Diabetes/grades/test/Dr_1/20309_left.jpeg\" \n",
       " \"/home/ye/user/yejg/database/Kaggle_Eye/Diabetes/grades/test/Dr_3/21835_left.jpeg\" \n",
       " \"/home/ye/user/yejg/database/Kaggle_Eye/Diabetes/grades/test/Dr_0/24526_left.jpeg\" \n",
       " \"/home/ye/user/yejg/database/Kaggle_Eye/Diabetes/grades/test/Dr_0/17723_left.jpeg\" \n",
       " \"/home/ye/user/yejg/database/Kaggle_Eye/Diabetes/grades/test/Dr_2/12650_left.jpeg\" \n",
       " \"/home/ye/user/yejg/database/Kaggle_Eye/Diabetes/grades/test/Dr_4/7945_right.jpeg\" \n",
       " \"/home/ye/user/yejg/database/Kaggle_Eye/Diabetes/grades/test/Dr_0/3100_right.jpeg\" \n",
       " \"/home/ye/user/yejg/database/Kaggle_Eye/Diabetes/grades/test/Dr_4/40673_left.jpeg\" \n",
       " \"/home/ye/user/yejg/database/Kaggle_Eye/Diabetes/grades/test/Dr_2/42753_left.jpeg\" \n",
       " \"/home/ye/user/yejg/database/Kaggle_Eye/Diabetes/grades/test/Dr_0/23506_right.jpeg\"\n",
       " \"/home/ye/user/yejg/database/Kaggle_Eye/Diabetes/grades/test/Dr_3/13222_right.jpeg\"\n",
       " \"/home/ye/user/yejg/database/Kaggle_Eye/Diabetes/grades/test/Dr_0/20727_left.jpeg\" \n",
       " ⋮                                                                                  \n",
       " \"/home/ye/user/yejg/database/Kaggle_Eye/Diabetes/grades/test/Dr_0/18066_right.jpeg\"\n",
       " \"/home/ye/user/yejg/database/Kaggle_Eye/Diabetes/grades/test/Dr_1/36442_right.jpeg\"\n",
       " \"/home/ye/user/yejg/database/Kaggle_Eye/Diabetes/grades/test/Dr_1/32402_left.jpeg\" \n",
       " \"/home/ye/user/yejg/database/Kaggle_Eye/Diabetes/grades/test/Dr_2/37645_right.jpeg\"\n",
       " \"/home/ye/user/yejg/database/Kaggle_Eye/Diabetes/grades/test/Dr_2/41419_left.jpeg\" \n",
       " \"/home/ye/user/yejg/database/Kaggle_Eye/Diabetes/grades/test/Dr_0/8263_right.jpeg\" \n",
       " \"/home/ye/user/yejg/database/Kaggle_Eye/Diabetes/grades/test/Dr_2/6053_left.jpeg\"  \n",
       " \"/home/ye/user/yejg/database/Kaggle_Eye/Diabetes/grades/test/Dr_1/25656_left.jpeg\" \n",
       " \"/home/ye/user/yejg/database/Kaggle_Eye/Diabetes/grades/test/Dr_1/31540_left.jpeg\" \n",
       " \"/home/ye/user/yejg/database/Kaggle_Eye/Diabetes/grades/test/Dr_4/23831_left.jpeg\" \n",
       " \"/home/ye/user/yejg/database/Kaggle_Eye/Diabetes/grades/test/Dr_0/30471_left.jpeg\" \n",
       " \"/home/ye/user/yejg/database/Kaggle_Eye/Diabetes/grades/test/Dr_2/8368_right.jpeg\" "
      ]
     },
     "execution_count": 45,
     "metadata": {},
     "output_type": "execute_result"
    }
   ],
   "source": [
    "x=map(string,test_images[:,1])"
   ]
  }
 ],
 "metadata": {
  "kernelspec": {
   "display_name": "Julia 0.7.0",
   "language": "julia",
   "name": "julia-0.7"
  },
  "language_info": {
   "file_extension": ".jl",
   "mimetype": "application/julia",
   "name": "julia",
   "version": "0.7.0"
  }
 },
 "nbformat": 4,
 "nbformat_minor": 2
}
