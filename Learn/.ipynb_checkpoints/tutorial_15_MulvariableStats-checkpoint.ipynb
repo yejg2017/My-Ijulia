{
 "cells": [
  {
   "cell_type": "code",
   "execution_count": null,
   "metadata": {},
   "outputs": [
    {
     "name": "stderr",
     "output_type": "stream",
     "text": [
      "IOPub data rate exceeded.\n",
      "The notebook server will temporarily stop sending output\n",
      "to the client in order to avoid crashing it.\n",
      "To change this limit, set the config variable\n",
      "`--NotebookApp.iopub_data_rate_limit`.\n"
     ]
    }
   ],
   "source": [
    "using MultivariateStats, RDatasets, Plots\n",
    "using Statistics"
   ]
  },
  {
   "cell_type": "markdown",
   "metadata": {},
   "source": [
    "##### For a single response vector y (without using bias):"
   ]
  },
  {
   "cell_type": "code",
   "execution_count": 7,
   "metadata": {},
   "outputs": [
    {
     "name": "stdout",
     "output_type": "stream",
     "text": [
      "rmse = 0.09960809515480959"
     ]
    }
   ],
   "source": [
    "# prepare data\n",
    "X = rand(1000, 3)               # feature matrix\n",
    "a0 = rand(3)                    # ground truths\n",
    "y = X * a0 + 0.1 * randn(1000)  # generate response\n",
    "\n",
    "# solve using llsq\n",
    "a = llsq(X, y; bias=false)\n",
    "\n",
    "# do prediction\n",
    "yp = X * a\n",
    "\n",
    "# measure the error\n",
    "rmse = sqrt(Statistics.mean(abs2.(y - yp)))\n",
    "print(\"rmse = $rmse\")"
   ]
  },
  {
   "cell_type": "markdown",
   "metadata": {},
   "source": [
    "##### For a single response vector y (using bias):"
   ]
  },
  {
   "cell_type": "code",
   "execution_count": 11,
   "metadata": {},
   "outputs": [
    {
     "name": "stdout",
     "output_type": "stream",
     "text": [
      "a=[0.414178, 0.27479, 0.138693]\n",
      "b=0.5970695457583892\n",
      "rmse = 0.09883966058101841\n"
     ]
    }
   ],
   "source": [
    "# prepare data\n",
    "X = rand(1000, 3)\n",
    "a0, b0 = rand(3), rand()\n",
    "y = X * a0 + b0 + 0.1 * randn(1000)\n",
    "\n",
    "# solve using llsq\n",
    "sol = llsq(X, y)\n",
    "\n",
    "# extract results\n",
    "a, b = sol[1:end-1], sol[end]\n",
    "\n",
    "# do prediction\n",
    "yp = X * a .+ b;\n",
    "println(\"a=$a\")\n",
    "println(\"b=$b\")\n",
    "rmse = sqrt(Statistics.mean(abs2.(y - yp)))\n",
    "println(\"rmse = $rmse\")"
   ]
  },
  {
   "cell_type": "markdown",
   "metadata": {},
   "source": [
    "##### For a matrix Y comprised of multiple columns"
   ]
  },
  {
   "cell_type": "code",
   "execution_count": 22,
   "metadata": {},
   "outputs": [],
   "source": [
    "# prepare data\n",
    "X = rand(1000, 3)\n",
    "A0, b0 = rand(3, 5), rand(1, 5)\n",
    "Y = (X * A0 .+ b0) + 0.1 * randn(1000, 5)\n",
    "\n",
    "# solve using llsq\n",
    "sol = llsq(X, Y)\n",
    "\n",
    "# extract results\n",
    "A, b = sol[1:end-1,:], sol[end,:]\n",
    "\n",
    "# do prediction\n",
    "Yp = X * A .+ b';"
   ]
  },
  {
   "cell_type": "markdown",
   "metadata": {},
   "source": [
    "#### PCA method"
   ]
  },
  {
   "cell_type": "code",
   "execution_count": 26,
   "metadata": {},
   "outputs": [],
   "source": [
    "plotly() # using plotly for 3D-interacive graphing\n",
    "\n",
    "# load iris dataset\n",
    "iris = dataset(\"datasets\", \"iris\");"
   ]
  },
  {
   "cell_type": "code",
   "execution_count": 29,
   "metadata": {
    "scrolled": false
   },
   "outputs": [
    {
     "ename": "MethodError",
     "evalue": "MethodError: no method matching fit(::Type{PCA}, ::LinearAlgebra.Adjoint{Float64,Array{Float64,2}}; maxoutdim=3)\nClosest candidates are:\n  fit(!Matched::Type{StatsBase.Histogram}, ::Any...; kwargs...) at /home/ye/.julia/packages/StatsBase/NzjNi/src/hist.jl:340\n  fit(!Matched::StatsBase.StatisticalModel, ::Any...) at /home/ye/.julia/packages/StatsBase/NzjNi/src/statmodels.jl:151 got unsupported keyword argument \"maxoutdim\"\n  fit(::Type{PCA}, !Matched::DenseArray{T<:AbstractFloat,2}; method, maxoutdim, pratio, mean) where T<:AbstractFloat at /home/ye/.julia/packages/MultivariateStats/wGpiN/src/pca.jl:139\n  ...",
     "output_type": "error",
     "traceback": [
      "MethodError: no method matching fit(::Type{PCA}, ::LinearAlgebra.Adjoint{Float64,Array{Float64,2}}; maxoutdim=3)\nClosest candidates are:\n  fit(!Matched::Type{StatsBase.Histogram}, ::Any...; kwargs...) at /home/ye/.julia/packages/StatsBase/NzjNi/src/hist.jl:340\n  fit(!Matched::StatsBase.StatisticalModel, ::Any...) at /home/ye/.julia/packages/StatsBase/NzjNi/src/statmodels.jl:151 got unsupported keyword argument \"maxoutdim\"\n  fit(::Type{PCA}, !Matched::DenseArray{T<:AbstractFloat,2}; method, maxoutdim, pratio, mean) where T<:AbstractFloat at /home/ye/.julia/packages/MultivariateStats/wGpiN/src/pca.jl:139\n  ...",
      "",
      "Stacktrace:",
      " [1] top-level scope at In[29]:8"
     ]
    }
   ],
   "source": [
    "Xtr=convert(Array,iris[1:2:end,1:4])'\n",
    "Xtr_labels=convert(Array,iris[1:2:end,5])\n",
    "\n",
    "\n",
    "# split other half to testing set\n",
    "Xte = convert(Array,iris[2:2:end,1:4])'\n",
    "Xte_labels = convert(Array,iris[2:2:end,5])\n",
    "M=fit(PCA,Xtr;maxoutdim=3)\n",
    "# apply PCA model to testing set\n",
    "Yte = transform(M, Xte)\n",
    "\n",
    "# reconstruct testing observations (approximately)\n",
    "Xr = reconstruct(M, Yte)\n",
    "\n",
    "\n",
    "\n",
    "# visualize first 3 principal components in 3D interacive plot\n",
    "p = scatter(setosa[1,:],setosa[2,:],setosa[3,:],marker=:circle,linewidth=0)\n",
    "scatter!(versicolor[1,:],versicolor[2,:],versicolor[3,:],marker=:circle,linewidth=0)\n",
    "scatter!(virginica[1,:],virginica[2,:],virginica[3,:],marker=:circle,linewidth=0)\n",
    "plot!(p,xlabel=\"PC1\",ylabel=\"PC2\",zlabel=\"PC3\")"
   ]
  }
 ],
 "metadata": {
  "kernelspec": {
   "display_name": "Julia 0.7.0",
   "language": "julia",
   "name": "julia-0.7"
  },
  "language_info": {
   "file_extension": ".jl",
   "mimetype": "application/julia",
   "name": "julia",
   "version": "0.7.0"
  }
 },
 "nbformat": 4,
 "nbformat_minor": 2
}
