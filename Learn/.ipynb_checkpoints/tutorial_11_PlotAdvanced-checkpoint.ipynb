{
 "cells": [
  {
   "cell_type": "code",
   "execution_count": 1,
   "metadata": {
    "collapsed": true
   },
   "outputs": [
    {
     "name": "stderr",
     "output_type": "stream",
     "text": [
      "IOPub data rate exceeded.\n",
      "The notebook server will temporarily stop sending output\n",
      "to the client in order to avoid crashing it.\n",
      "To change this limit, set the config variable\n",
      "`--NotebookApp.iopub_data_rate_limit`.\n",
      "┌ Info: Precompiling StatPlots [60ddc479-9b66-56df-82fc-76a74619b69c]\n",
      "└ @ Base loading.jl:1187\n",
      "WARNING: using PyPlot.axes in module Main conflicts with an existing identifier.\n",
      "WARNING: both PyPlot and StatPlots export \"arrow\"; uses of it in module Main must be qualified\n",
      "WARNING: both PyPlot and StatPlots export \"bar\"; uses of it in module Main must be qualified\n",
      "WARNING: both PyPlot and StatPlots export \"barh\"; uses of it in module Main must be qualified\n",
      "WARNING: both PyPlot and StatPlots export \"boxplot\"; uses of it in module Main must be qualified\n",
      "WARNING: both PyPlot and StatPlots export \"contour\"; uses of it in module Main must be qualified\n",
      "WARNING: both PyPlot and StatPlots export \"contourf\"; uses of it in module Main must be qualified\n",
      "WARNING: both PyPlot and Images export \"gray\"; uses of it in module Main must be qualified\n",
      "WARNING: both PyPlot and StatPlots export \"grid\"; uses of it in module Main must be qualified\n",
      "WARNING: both PyPlot and StatPlots export \"hexbin\"; uses of it in module Main must be qualified\n",
      "WARNING: both PyPlot and StatPlots export \"pie\"; uses of it in module Main must be qualified\n",
      "WARNING: both PyPlot and StatPlots export \"plot\"; uses of it in module Main must be qualified\n",
      "WARNING: both PyPlot and StatPlots export \"quiver\"; uses of it in module Main must be qualified\n",
      "WARNING: both PyPlot and StatPlots export \"savefig\"; uses of it in module Main must be qualified\n",
      "WARNING: both PyPlot and StatPlots export \"scatter\"; uses of it in module Main must be qualified\n",
      "WARNING: both PyPlot and StatPlots export \"spy\"; uses of it in module Main must be qualified\n",
      "WARNING: both PyPlot and StatPlots export \"text\"; uses of it in module Main must be qualified\n",
      "WARNING: both PyPlot and StatPlots export \"twinx\"; uses of it in module Main must be qualified\n",
      "WARNING: both Images and StatPlots export \"center\"; uses of it in module Main must be qualified\n"
     ]
    }
   ],
   "source": [
    "using Plots\n",
    "using RDatasets\n",
    "using StatPlots\n",
    "using Images\n",
    "using PyPlot"
   ]
  },
  {
   "cell_type": "markdown",
   "metadata": {},
   "source": [
    "###  Processing Pipeline\n",
    "Plotting commands will send inputs through a series of preprocessing steps, in order to convert, simplify, and generalize. The idea is that end-users need incredible flexibility in what (and how) they are able to make calls. They may want total control over plot attributes, or none at all. There may be 8 attributes that are constant, but one that varies by data series. We need to be able to easily layer complex plots on top of each other, and easily define what they should look like. Input data might come in any form.\n",
    "\n",
    "I'll go through the steps that occur after a call to plot() or plot!(), and hint at the power and flexibility that arises"
   ]
  },
  {
   "cell_type": "code",
   "execution_count": null,
   "metadata": {},
   "outputs": [],
   "source": [
    "n=100;\n",
    "x,y=range(0,stop=1,length=n),randn(n,3);\n",
    "plot(x, y, line = (0.5, [4 1 0], [:path :scatter :density]),\n",
    "    marker=(10, 0.5, [:none :+ :none]), fill=0.5,\n",
    "    orientation = :h, title = \"My title\")"
   ]
  },
  {
   "cell_type": "code",
   "execution_count": null,
   "metadata": {
    "collapsed": true
   },
   "outputs": [],
   "source": []
  }
 ],
 "metadata": {
  "kernelspec": {
   "display_name": "Julia 0.7.0",
   "language": "julia",
   "name": "julia-0.7"
  },
  "language_info": {
   "file_extension": ".jl",
   "mimetype": "application/julia",
   "name": "julia",
   "version": "0.7.0"
  }
 },
 "nbformat": 4,
 "nbformat_minor": 2
}
