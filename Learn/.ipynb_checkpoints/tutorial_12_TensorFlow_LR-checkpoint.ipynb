{
 "cells": [
  {
   "cell_type": "code",
   "execution_count": 1,
   "metadata": {
    "collapsed": true
   },
   "outputs": [],
   "source": [
    "using TensorFlow"
   ]
  },
  {
   "cell_type": "code",
   "execution_count": 2,
   "metadata": {},
   "outputs": [
    {
     "name": "stderr",
     "output_type": "stream",
     "text": [
      "2018-08-30 18:01:40.652413: I tensorflow/core/platform/cpu_feature_guard.cc:140] Your CPU supports instructions that this TensorFlow binary was not compiled to use: SSE4.1 SSE4.2 AVX AVX2 FMA\n",
      "WARNING: Base.Test is deprecated, run `using Test` instead\n",
      "  likely near /home/ye/.julia/packages/IJulia/fDY4W/src/kernel.jl:38\n"
     ]
    },
    {
     "data": {
      "text/plain": [
       "\u001b[32m\u001b[1mTest Passed\u001b[22m\u001b[39m"
      ]
     },
     "execution_count": 2,
     "metadata": {},
     "output_type": "execute_result"
    }
   ],
   "source": [
    "sess=Session()\n",
    "x=constant(Float64[1,2])\n",
    "y=Variable(Float64[3,4])\n",
    "z=placeholder(Float64)\n",
    "\n",
    "w=exp(x+z+-y)\n",
    "run(sess,global_variables_initializer())\n",
    "res=run(sess,w,Dict(z=>Float64[1,2]))\n",
    "Base.Test.@test res[1] ≈ exp(-1)"
   ]
  },
  {
   "cell_type": "markdown",
   "metadata": {},
   "source": [
    "### Logistic regression"
   ]
  },
  {
   "cell_type": "code",
   "execution_count": 4,
   "metadata": {},
   "outputs": [
    {
     "ename": "DimensionMismatch",
     "evalue": "DimensionMismatch(\"matrix is not square: dimensions are (100, 10)\")",
     "output_type": "error",
     "traceback": [
      "DimensionMismatch(\"matrix is not square: dimensions are (100, 10)\")",
      "",
      "Stacktrace:",
      " [1] checksquare at /buildworker/worker/package_linux64/build/usr/share/julia/stdlib/v0.7/LinearAlgebra/src/LinearAlgebra.jl:216 [inlined]",
      " [2] exp!(::Array{Float64,2}) at /buildworker/worker/package_linux64/build/usr/share/julia/stdlib/v0.7/LinearAlgebra/src/dense.jl:495",
      " [3] exp(::Array{Float64,2}) at /buildworker/worker/package_linux64/build/usr/share/julia/stdlib/v0.7/LinearAlgebra/src/dense.jl:489",
      " [4] top-level scope at In[4]:5"
     ]
    }
   ],
   "source": [
    "using Distributions\n",
    "# Generate some synthetic data\n",
    "x = randn(100, 50);\n",
    "w = randn(50, 10);\n",
    "y_prob = exp(x*w);\n",
    "y_prob./=sum(y_prob,2)"
   ]
  }
 ],
 "metadata": {
  "kernelspec": {
   "display_name": "Julia 0.7.0",
   "language": "julia",
   "name": "julia-0.7"
  },
  "language_info": {
   "file_extension": ".jl",
   "mimetype": "application/julia",
   "name": "julia",
   "version": "0.7.0"
  }
 },
 "nbformat": 4,
 "nbformat_minor": 2
}
