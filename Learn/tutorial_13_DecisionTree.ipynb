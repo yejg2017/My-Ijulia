{
 "cells": [
  {
   "cell_type": "code",
   "execution_count": 2,
   "metadata": {},
   "outputs": [
    {
     "name": "stderr",
     "output_type": "stream",
     "text": [
      "┌ Info: Recompiling stale cache file /home/ye/.julia/compiled/v0.7/RDatasets/JyIbx.ji for RDatasets [ce6b1742-4840-55fa-b093-852dadbb1d8b]\n",
      "└ @ Base loading.jl:1185\n"
     ]
    }
   ],
   "source": [
    "using DecisionTree\n",
    "using RDatasets"
   ]
  },
  {
   "cell_type": "markdown",
   "metadata": {},
   "source": [
    "### Classification Example"
   ]
  },
  {
   "cell_type": "markdown",
   "metadata": {},
   "source": [
    "#### load dataset"
   ]
  },
  {
   "cell_type": "code",
   "execution_count": 5,
   "metadata": {},
   "outputs": [],
   "source": [
    "features,labels=load_data(\"iris\");\n",
    "features=float.(features);\n",
    "labels=string.(labels);"
   ]
  },
  {
   "cell_type": "markdown",
   "metadata": {},
   "source": [
    "#### Pruned Tree Classifier"
   ]
  },
  {
   "cell_type": "code",
   "execution_count": 8,
   "metadata": {},
   "outputs": [
    {
     "name": "stdout",
     "output_type": "stream",
     "text": [
      "Feature 3, Threshold 2.45\n",
      "L-> Iris-setosa : 50/50\n",
      "R-> Feature 4, Threshold 1.75\n",
      "    L-> Iris-versicolor : 49/54\n",
      "    R-> Iris-virginica : 45/46\n"
     ]
    },
    {
     "data": {
      "text/plain": [
       "\"Iris-virginica\""
      ]
     },
     "execution_count": 8,
     "metadata": {},
     "output_type": "execute_result"
    }
   ],
   "source": [
    "model=DecisionTreeClassifier(max_depth=2)\n",
    "DecisionTree.fit!(model,features,labels)\n",
    "print_tree(model,5)\n",
    "\n",
    "# apply learned model\n",
    "predict(model, [5.9,3.0,5.1,1.9])"
   ]
  },
  {
   "cell_type": "code",
   "execution_count": 10,
   "metadata": {},
   "outputs": [
    {
     "data": {
      "text/plain": [
       "3-element Array{Float64,1}:\n",
       " 0.0                 \n",
       " 0.021739130434782608\n",
       " 0.9782608695652174  "
      ]
     },
     "execution_count": 10,
     "metadata": {},
     "output_type": "execute_result"
    }
   ],
   "source": [
    "# get the probability of each label\n",
    "predict_proba(model, [5.9,3.0,5.1,1.9])"
   ]
  },
  {
   "cell_type": "code",
   "execution_count": 11,
   "metadata": {},
   "outputs": [
    {
     "name": "stdout",
     "output_type": "stream",
     "text": [
      "[\"Iris-setosa\", \"Iris-versicolor\", \"Iris-virginica\"]\n"
     ]
    }
   ],
   "source": [
    "println(get_classes(model)) # returns the ordering of the columns in predict_proba's output"
   ]
  },
  {
   "cell_type": "markdown",
   "metadata": {},
   "source": [
    "#### train full-tree classifier"
   ]
  },
  {
   "cell_type": "code",
   "execution_count": 12,
   "metadata": {},
   "outputs": [
    {
     "name": "stdout",
     "output_type": "stream",
     "text": [
      "Feature 4, Threshold 0.8\n",
      "L-> Iris-setosa : 50/50\n",
      "R-> Feature 4, Threshold 1.75\n",
      "    L-> Feature 3, Threshold 4.95\n",
      "        L-> Iris-versicolor : 47/48\n",
      "        R-> Feature 4, Threshold 1.55\n",
      "            L-> Iris-virginica : 3/3\n",
      "            R-> Feature 3, Threshold 5.449999999999999\n",
      "                L-> Iris-versicolor : 2/2\n",
      "                R-> Iris-virginica : 1/1\n",
      "    R-> Feature 3, Threshold 4.85\n",
      "        L-> Feature 1, Threshold 5.95\n",
      "            L-> Iris-versicolor : 1/1\n",
      "            R-> Iris-virginica : 2/2\n",
      "        R-> Iris-virginica : 43/43\n"
     ]
    }
   ],
   "source": [
    "model=DecisionTree.build_tree(labels,features)\n",
    "\n",
    "#  prune tree: merge leaves having >= 90% combined purity (default: 100%)\n",
    "model=DecisionTree.prune_tree(model,0.9)\n",
    "\n",
    "# pretty print of the tree, to a depth of 5 nodes (optional)\n",
    "DecisionTree.print_tree(model,5)"
   ]
  },
  {
   "cell_type": "code",
   "execution_count": 13,
   "metadata": {},
   "outputs": [
    {
     "data": {
      "text/plain": [
       "3-element Array{Float64,1}:\n",
       " 0.0\n",
       " 0.0\n",
       " 1.0"
      ]
     },
     "execution_count": 13,
     "metadata": {},
     "output_type": "execute_result"
    }
   ],
   "source": [
    "apply_tree_proba(model, [5.9,3.0,5.1,1.9], [\"Iris-setosa\", \"Iris-versicolor\", \"Iris-virginica\"])"
   ]
  },
  {
   "cell_type": "code",
   "execution_count": 15,
   "metadata": {},
   "outputs": [
    {
     "name": "stdout",
     "output_type": "stream",
     "text": [
      "\n",
      "Fold 1\n",
      "Classes:  "
     ]
    },
    {
     "data": {
      "text/plain": [
       "3×3 Array{Int64,2}:\n",
       " 8   0  0\n",
       " 0  15  0\n",
       " 0   0  7"
      ]
     },
     "metadata": {},
     "output_type": "display_data"
    },
    {
     "name": "stdout",
     "output_type": "stream",
     "text": [
      "[\"Iris-setosa\", \"Iris-versicolor\", \"Iris-virginica\"]\n",
      "Matrix:   "
     ]
    },
    {
     "data": {
      "text/plain": [
       "3×3 Array{Int64,2}:\n",
       " 10  0   0\n",
       "  0  9   0\n",
       "  0  0  11"
      ]
     },
     "metadata": {},
     "output_type": "display_data"
    },
    {
     "data": {
      "text/plain": [
       "3×3 Array{Int64,2}:\n",
       " 16  0  0\n",
       "  0  7  0\n",
       "  0  0  7"
      ]
     },
     "metadata": {},
     "output_type": "display_data"
    },
    {
     "data": {
      "text/plain": [
       "3×3 Array{Int64,2}:\n",
       " 9  0   0\n",
       " 0  8   0\n",
       " 0  0  13"
      ]
     },
     "metadata": {},
     "output_type": "display_data"
    },
    {
     "data": {
      "text/plain": [
       "3×3 Array{Int64,2}:\n",
       " 7   0   0\n",
       " 0  11   0\n",
       " 0   0  12"
      ]
     },
     "metadata": {},
     "output_type": "display_data"
    },
    {
     "name": "stdout",
     "output_type": "stream",
     "text": [
      "\n",
      "Accuracy: 1.0\n",
      "Kappa:    1.0\n",
      "\n",
      "Fold 2\n",
      "Classes:  [\"Iris-setosa\", \"Iris-versicolor\", \"Iris-virginica\"]\n",
      "Matrix:   \n",
      "Accuracy: 1.0\n",
      "Kappa:    1.0\n",
      "\n",
      "Fold 3\n",
      "Classes:  [\"Iris-setosa\", \"Iris-versicolor\", \"Iris-virginica\"]\n",
      "Matrix:   \n",
      "Accuracy: 1.0\n",
      "Kappa:    1.0\n",
      "\n",
      "Fold 4\n",
      "Classes:  [\"Iris-setosa\", \"Iris-versicolor\", \"Iris-virginica\"]\n",
      "Matrix:   \n",
      "Accuracy: 1.0\n",
      "Kappa:    1.0\n",
      "\n",
      "Fold 5\n",
      "Classes:  [\"Iris-setosa\", \"Iris-versicolor\", \"Iris-virginica\"]\n",
      "Matrix:   \n",
      "Accuracy: 1.0\n",
      "Kappa:    1.0\n",
      "\n",
      "Mean Accuracy: 1.0\n"
     ]
    },
    {
     "data": {
      "text/plain": [
       "5-element Array{Float64,1}:\n",
       " 1.0\n",
       " 1.0\n",
       " 1.0\n",
       " 1.0\n",
       " 1.0"
      ]
     },
     "execution_count": 15,
     "metadata": {},
     "output_type": "execute_result"
    }
   ],
   "source": [
    "# set of classification parameters and respective default values\n",
    "# pruning_purity: purity threshold used for post-pruning (default: 1.0, no pruning)\n",
    "# max_depth: maximum depth of the decision tree (default: -1, no maximum)\n",
    "# min_samples_leaf: the minimum number of samples each leaf needs to have (default: 1)\n",
    "# min_samples_split: the minimum number of samples in needed for a split (default: 2)\n",
    "# min_purity_increase: minimum purity needed for a split (default: 0.0)\n",
    "# n_subfeatures: number of features to select at random (default: 0, keep all)\n",
    "n_subfeatures=0; max_depth=-1; min_samples_leaf=1; min_samples_split=2\n",
    "min_purity_increase=0.0; pruning_purity = 1.0;n_folds=5\n",
    "\n",
    "model    =   build_tree(labels, features,\n",
    "                        n_subfeatures,\n",
    "                        max_depth,\n",
    "                        min_samples_leaf,\n",
    "                        min_samples_split,\n",
    "                        min_purity_increase)\n",
    "\n",
    "accuracy = nfoldCV_tree(labels, features,\n",
    "                        n_folds,\n",
    "                        pruning_purity,\n",
    "                        max_depth,\n",
    "                        min_samples_leaf,\n",
    "                        min_samples_split,\n",
    "                        min_purity_increase)"
   ]
  },
  {
   "cell_type": "markdown",
   "metadata": {},
   "source": [
    "### Random Forest Classifier"
   ]
  },
  {
   "cell_type": "code",
   "execution_count": 16,
   "metadata": {},
   "outputs": [
    {
     "data": {
      "text/plain": [
       "3×3 Array{Int64,2}:\n",
       " 13   0   0\n",
       "  0  16   0\n",
       "  0   0  21"
      ]
     },
     "metadata": {},
     "output_type": "display_data"
    },
    {
     "data": {
      "text/plain": [
       "3×3 Array{Int64,2}:\n",
       " 22   0   0\n",
       "  0  16   1\n",
       "  0   0  11"
      ]
     },
     "metadata": {},
     "output_type": "display_data"
    },
    {
     "data": {
      "text/plain": [
       "3×3 Array{Int64,2}:\n",
       " 15   0   0\n",
       "  0  17   0\n",
       "  0   0  18"
      ]
     },
     "metadata": {},
     "output_type": "display_data"
    },
    {
     "name": "stdout",
     "output_type": "stream",
     "text": [
      "\n",
      "Fold 1\n",
      "Classes:  [\"Iris-setosa\", \"Iris-versicolor\", \"Iris-virginica\"]\n",
      "Matrix:   \n",
      "Accuracy: 1.0\n",
      "Kappa:    1.0\n",
      "\n",
      "Fold 2\n",
      "Classes:  [\"Iris-setosa\", \"Iris-versicolor\", \"Iris-virginica\"]\n",
      "Matrix:   \n",
      "Accuracy: 0.98\n",
      "Kappa:    0.9689826302729528\n",
      "\n",
      "Fold 3\n",
      "Classes:  [\"Iris-setosa\", \"Iris-versicolor\", \"Iris-virginica\"]\n",
      "Matrix:   \n",
      "Accuracy: 1.0\n",
      "Kappa:    1.0\n",
      "\n",
      "Mean Accuracy: 0.9933333333333333\n"
     ]
    },
    {
     "data": {
      "text/plain": [
       "3-element Array{Float64,1}:\n",
       " 1.0 \n",
       " 0.98\n",
       " 1.0 "
      ]
     },
     "execution_count": 16,
     "metadata": {},
     "output_type": "execute_result"
    }
   ],
   "source": [
    "model=build_forest(labels,features,2,10,0.5,6)\n",
    "n_folds=3; n_subfeatures=2\n",
    "accuracy = nfoldCV_forest(labels, features, n_folds, n_subfeatures)\n"
   ]
  },
  {
   "cell_type": "code",
   "execution_count": 18,
   "metadata": {},
   "outputs": [
    {
     "data": {
      "text/plain": [
       "3×3 Array{Int64,2}:\n",
       " 18   0   0\n",
       "  0  16   1\n",
       "  0   0  15"
      ]
     },
     "metadata": {},
     "output_type": "display_data"
    },
    {
     "data": {
      "text/plain": [
       "3×3 Array{Int64,2}:\n",
       " 17   0   0\n",
       "  0  14   3\n",
       "  0   0  16"
      ]
     },
     "metadata": {},
     "output_type": "display_data"
    },
    {
     "data": {
      "text/plain": [
       "3×3 Array{Int64,2}:\n",
       " 15   0   0\n",
       "  0  16   0\n",
       "  0   2  17"
      ]
     },
     "metadata": {},
     "output_type": "display_data"
    },
    {
     "name": "stdout",
     "output_type": "stream",
     "text": [
      "\n",
      "Fold 1\n",
      "Classes:  [\"Iris-setosa\", \"Iris-versicolor\", \"Iris-virginica\"]\n",
      "Matrix:   \n",
      "Accuracy: 0.98\n",
      "Kappa:    0.969951923076923\n",
      "\n",
      "Fold 2\n",
      "Classes:  [\"Iris-setosa\", \"Iris-versicolor\", \"Iris-virginica\"]\n",
      "Matrix:   \n",
      "Accuracy: 0.94\n",
      "Kappa:    0.9101258238466147\n",
      "\n",
      "Fold 3\n",
      "Classes:  [\"Iris-setosa\", \"Iris-versicolor\", \"Iris-virginica\"]\n",
      "Matrix:   \n",
      "Accuracy: 0.96\n",
      "Kappa:    0.9399038461538461\n",
      "\n",
      "Mean Accuracy: 0.96\n"
     ]
    },
    {
     "data": {
      "text/plain": [
       "3-element Array{Float64,1}:\n",
       " 0.98\n",
       " 0.94\n",
       " 0.96"
      ]
     },
     "execution_count": 18,
     "metadata": {},
     "output_type": "execute_result"
    }
   ],
   "source": [
    "n_subfeatures=-1; n_trees=10; partial_sampling=0.7; max_depth=-1\n",
    "min_samples_leaf=5; min_samples_split=2; min_purity_increase=0.0\n",
    "\n",
    "model    =   build_forest(labels, features,\n",
    "                          n_subfeatures,\n",
    "                          n_trees,\n",
    "                          partial_sampling,\n",
    "                          max_depth,\n",
    "                          min_samples_leaf,\n",
    "                          min_samples_split,\n",
    "                          min_purity_increase)\n",
    "\n",
    "accuracy = nfoldCV_forest(labels, features,\n",
    "                          n_folds,\n",
    "                          n_subfeatures,\n",
    "                          n_trees,\n",
    "                          partial_sampling,\n",
    "                          max_depth,\n",
    "                          min_samples_leaf,\n",
    "                          min_samples_split,\n",
    "                          min_purity_increase)"
   ]
  }
 ],
 "metadata": {
  "kernelspec": {
   "display_name": "Julia 0.7.0",
   "language": "julia",
   "name": "julia-0.7"
  },
  "language_info": {
   "file_extension": ".jl",
   "mimetype": "application/julia",
   "name": "julia",
   "version": "0.7.0"
  }
 },
 "nbformat": 4,
 "nbformat_minor": 2
}
