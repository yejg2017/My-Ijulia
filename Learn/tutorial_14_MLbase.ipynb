{
 "cells": [
  {
   "cell_type": "code",
   "execution_count": 3,
   "metadata": {},
   "outputs": [
    {
     "name": "stderr",
     "output_type": "stream",
     "text": [
      "WARNING: using MultivariateStats.transform in module Main conflicts with an existing identifier.\n"
     ]
    }
   ],
   "source": [
    "using MLBase\n",
    "using LinearAlgebra\n",
    "using MultivariateStats"
   ]
  },
  {
   "cell_type": "markdown",
   "metadata": {},
   "source": [
    "### Data Preprocessing Utilities"
   ]
  },
  {
   "cell_type": "markdown",
   "metadata": {},
   "source": [
    "#### Data Repetition"
   ]
  },
  {
   "cell_type": "code",
   "execution_count": 2,
   "metadata": {},
   "outputs": [
    {
     "name": "stdout",
     "output_type": "stream",
     "text": [
      "[1, 1, 2, 2, 3, 3]\n",
      "[1, 1, 1, 2, 2, 3]\n"
     ]
    }
   ],
   "source": [
    "println(repeach(1:3,2));\n",
    "println(repeach(1:3,[3,2,1]))"
   ]
  },
  {
   "cell_type": "code",
   "execution_count": 17,
   "metadata": {},
   "outputs": [
    {
     "data": {
      "text/plain": [
       "2×5 Array{Float64,2}:\n",
       " 0.94668   0.94668   0.94668   0.802813  0.802813\n",
       " 0.465706  0.465706  0.465706  0.560968  0.560968"
      ]
     },
     "execution_count": 17,
     "metadata": {},
     "output_type": "execute_result"
    }
   ],
   "source": [
    "repeachcol(rand(2,3),[3,2])   #Repeat each column in matrix a for n times. Here n can be either a scalar or a vector with "
   ]
  },
  {
   "cell_type": "code",
   "execution_count": 19,
   "metadata": {},
   "outputs": [
    {
     "data": {
      "text/plain": [
       "5×3 Array{Float64,2}:\n",
       " 0.734464  0.222528  0.544563\n",
       " 0.734464  0.222528  0.544563\n",
       " 0.607427  0.955209  0.75498 \n",
       " 0.607427  0.955209  0.75498 \n",
       " 0.607427  0.955209  0.75498 "
      ]
     },
     "execution_count": 19,
     "metadata": {},
     "output_type": "execute_result"
    }
   ],
   "source": [
    "repeachrow(rand(2,3),[2,3])  #Repeat each row in matrix a for n times. Here n can be either a scalar or a vector with "
   ]
  },
  {
   "cell_type": "markdown",
   "metadata": {},
   "source": [
    "### Label Processing"
   ]
  },
  {
   "cell_type": "markdown",
   "metadata": {},
   "source": [
    "In machine learning, we often need to first attach each class with an integer label. This package provides a type LabelMap that captures the association between discrete values (e.g a finite set of strings) and integer labels.\n",
    "\n",
    "Together with LabelMap, the package also provides a function labelmap to construct the map from a sequence of discrete values, and a function labelencode to map discrete values to integer labels."
   ]
  },
  {
   "cell_type": "code",
   "execution_count": 20,
   "metadata": {},
   "outputs": [
    {
     "data": {
      "text/plain": [
       "LabelMap (with 3 labels):\n",
       "[1] a\n",
       "[2] b\n",
       "[3] c\n"
      ]
     },
     "execution_count": 20,
     "metadata": {},
     "output_type": "execute_result"
    }
   ],
   "source": [
    "lm=labelmap([\"a\",\"a\",\"b\",\"b\",\"c\"])"
   ]
  },
  {
   "cell_type": "code",
   "execution_count": 22,
   "metadata": {},
   "outputs": [
    {
     "data": {
      "text/plain": [
       "2"
      ]
     },
     "execution_count": 22,
     "metadata": {},
     "output_type": "execute_result"
    }
   ],
   "source": [
    "labelencode(lm,\"b\")"
   ]
  },
  {
   "cell_type": "code",
   "execution_count": 23,
   "metadata": {},
   "outputs": [
    {
     "data": {
      "text/plain": [
       "3-element Array{Int64,1}:\n",
       " 1\n",
       " 2\n",
       " 1"
      ]
     },
     "execution_count": 23,
     "metadata": {},
     "output_type": "execute_result"
    }
   ],
   "source": [
    "labelencode(lm,[\"a\",\"b\",\"a\"])"
   ]
  },
  {
   "cell_type": "markdown",
   "metadata": {},
   "source": [
    "Note that labelencode can be applied to either single value or an array.\n",
    "\n",
    "The package also provides a function groupindices to group indices based on associated labels."
   ]
  },
  {
   "cell_type": "code",
   "execution_count": 24,
   "metadata": {},
   "outputs": [
    {
     "data": {
      "text/plain": [
       "3-element Array{Array{Int64,1},1}:\n",
       " [1, 2, 3]\n",
       " [4, 5, 7]\n",
       " [6]      "
      ]
     },
     "execution_count": 24,
     "metadata": {},
     "output_type": "execute_result"
    }
   ],
   "source": [
    "groupindices(3,[1,1,1,2,2,3,2])"
   ]
  },
  {
   "cell_type": "code",
   "execution_count": 25,
   "metadata": {},
   "outputs": [
    {
     "data": {
      "text/plain": [
       "3-element Array{Array{Int64,1},1}:\n",
       " [1, 2]\n",
       " [4, 5]\n",
       " [3]   "
      ]
     },
     "execution_count": 25,
     "metadata": {},
     "output_type": "execute_result"
    }
   ],
   "source": [
    "groupindices(lm,[\"a\",\"a\",\"c\",\"b\",\"b\"])"
   ]
  },
  {
   "cell_type": "markdown",
   "metadata": {},
   "source": [
    "### Classification"
   ]
  },
  {
   "cell_type": "markdown",
   "metadata": {},
   "source": [
    "A classification procedure, no matter how sophisticated it is, generally consists of two steps: (1) assign a score/distance to each class, and (2) choose the class that yields the highest score/lowest distance.\n",
    "\n",
    "\n",
    "\n",
    "This package provides a function classify and its friends to accomplish the second step, that is, to predict labels based on scores."
   ]
  },
  {
   "cell_type": "markdown",
   "metadata": {},
   "source": [
    "Classify based on scores given in x and the order of scores specified in ord.\n",
    "\n",
    "Generally, ord can be any instance of type Ordering. However, it usually enough to use either Forward or Reverse:\n",
    "\n",
    "* ord = Forward: higher value indicates better match (e.g., similarity)\n",
    "* ord = Reverse: lower value indicates better match (e.g., distances)\n",
    "When ord is omitted, it is defaulted to Forward.\n",
    "\n",
    "When x is a vector, it produces an integer label. When x is a matrix, it produces a vector of integers, each for a column of x."
   ]
  },
  {
   "cell_type": "code",
   "execution_count": 28,
   "metadata": {},
   "outputs": [
    {
     "name": "stdout",
     "output_type": "stream",
     "text": [
      "2\n",
      "2\n",
      "1\n"
     ]
    }
   ],
   "source": [
    "println(classify([0.2,0.5,0.3]))\n",
    "println(classify([0.2,0.5,0.3],Forward))\n",
    "println(classify([0.2,0.5,0.3],Reverse))"
   ]
  },
  {
   "cell_type": "code",
   "execution_count": 30,
   "metadata": {},
   "outputs": [
    {
     "name": "stdout",
     "output_type": "stream",
     "text": [
      "[2, 1]\n",
      "[2, 1]\n",
      "[1, 3]\n"
     ]
    }
   ],
   "source": [
    "println(classify([0.2 0.5 0.3; 0.7 0.6 0.2]')) # --> [2, 1]\n",
    "println(classify([0.2 0.5 0.3; 0.7 0.6 0.2]', Forward)) # --> [2, 1]\n",
    "println(classify([0.2 0.5 0.3; 0.7 0.6 0.2]', Reverse)) # --> [1, 3]"
   ]
  },
  {
   "cell_type": "markdown",
   "metadata": {},
   "source": [
    "### Performance Evaluation"
   ]
  },
  {
   "cell_type": "markdown",
   "metadata": {},
   "source": [
    "This package provides tools to assess the performance of a machine learning algorithm."
   ]
  },
  {
   "cell_type": "markdown",
   "metadata": {},
   "source": [
    "#### Classification Performance"
   ]
  },
  {
   "cell_type": "markdown",
   "metadata": {},
   "source": [
    "** correctrate(gt, pred) **\n",
    "  \n",
    "  Compute correct rate of predictions given by pred w.r.t. the ground truths given in gt.\n",
    "\n",
    "** errorrate(gt, pred) **\n",
    "  \n",
    "  Compute error rate of predictions given by pred w.r.t. the ground truths given in gt.\n",
    "\n",
    "** confusmat(k, gt, pred) **\n",
    "  \n",
    "  Compute the confusion matrix of the predictions given by pred w.r.t. the ground truths given in gt. Here, k is the number of classes.\n",
    "\n",
    "It returns an integer matrix R of size (k, k), such that R(i, j) == countnz((gt .== i) & (pred .== j))."
   ]
  },
  {
   "cell_type": "code",
   "execution_count": 31,
   "metadata": {
    "collapsed": true
   },
   "outputs": [],
   "source": [
    "gt=[1, 1, 1, 2, 2, 2, 3, 3];\n",
    "pred = [1, 1, 2, 2, 2, 3, 3, 3];"
   ]
  },
  {
   "cell_type": "code",
   "execution_count": 35,
   "metadata": {},
   "outputs": [
    {
     "name": "stderr",
     "output_type": "stream",
     "text": [
      "┌ Warning: `sum(a::AbstractArray, dims)` is deprecated, use `sum(a, dims=dims)` instead.\n",
      "│   caller = top-level scope at In[35]:2\n",
      "└ @ Core In[35]:2\n"
     ]
    },
    {
     "data": {
      "text/plain": [
       "3×3 Array{Float64,2}:\n",
       " 0.666667  0.333333  0.0     \n",
       " 0.0       0.666667  0.333333\n",
       " 0.0       0.0       1.0     "
      ]
     },
     "execution_count": 35,
     "metadata": {},
     "output_type": "execute_result"
    }
   ],
   "source": [
    "C=confusmat(3,gt,pred);\n",
    "C./sum(C,2)"
   ]
  },
  {
   "cell_type": "code",
   "execution_count": 37,
   "metadata": {},
   "outputs": [
    {
     "name": "stdout",
     "output_type": "stream",
     "text": [
      "0.75\n"
     ]
    },
    {
     "name": "stderr",
     "output_type": "stream",
     "text": [
      "WARNING: Base.trace is deprecated: it has been moved to the standard library package `LinearAlgebra` as `tr`.\n",
      "Add `using LinearAlgebra` to your imports.\n",
      "  likely near /home/ye/.julia/packages/IJulia/fDY4W/src/kernel.jl:38\n"
     ]
    },
    {
     "data": {
      "text/plain": [
       "0.75"
      ]
     },
     "execution_count": 37,
     "metadata": {},
     "output_type": "execute_result"
    }
   ],
   "source": [
    "println(trace(C) / length(gt)) # compute correct rate from confusion matrix\n",
    "correctrate(gt, pred)"
   ]
  },
  {
   "cell_type": "markdown",
   "metadata": {},
   "source": [
    "#### Hit rate (for retrieval tasks)\n",
    "    hitrate(gt, ranklist, k)\n",
    "\n",
    "Compute the hitrate of rank k for a ranked list of predictions given by ranklist w.r.t. the ground truths given in gt.\n",
    "\n",
    "Particularly, if gt[i] is contained in ranklist[1:k, i], then the prediction for the i-th sample is said to be hit within rank ``k``. The hitrate of rank k is the fraction of predictions that hit within rank k.\n",
    "\n",
    "    hitrates(gt, ranklist, ks)\n",
    "\n",
    "Compute hit-rates of multiple ranks (as given by a vector ks). It returns a vector of hitrates r, where r[i] corresponding to the rank ks[i].\n",
    "\n",
    "Note that computing hit-rates for multiple ranks jointly is more efficient than computing them separately.\n",
    "\n",
    "Receiver Operating Characteristics (ROC)\n",
    "Receiver Operating Characteristics (ROC) is often used to measure the performance of a detector, thresholded classifier, or a verification algorithm.\n",
    "\n",
    "##### The ROC Type\n",
    "This package uses an immutable type ROCNums defined below to capture the ROC of an experiment:\n",
    "\n",
    "    immutable ROCNums{T<:Real}\n",
    "        p::T    # positive in ground-truth\n",
    "        n::T    # negative in ground-truth\n",
    "        tp::T   # correct positive prediction\n",
    "        tn::T   # correct negative prediction\n",
    "        fp::T   # (incorrect) positive prediction when ground-truth is negative\n",
    "        fn::T   # (incorrect) negative prediction when ground-truth is positive\n",
    "    end\n",
    "One can compute a variety of performance measurements from an instance of ROCNums (say r):\n",
    "\n",
    "    true_positive(r)\n",
    "the number of true positives (r.tp)\n",
    "\n",
    "    true_negative(r)\n",
    "the number of true negatives (r.tn)\n",
    "\n",
    "    false_positive(r)\n",
    "the number of false positives (r.fp)\n",
    "\n",
    "    false_negative(r)\n",
    "the number of false negatives (r.fn)\n",
    "\n",
    "true_postive_rate(r)\n",
    "the fraction of positive samples correctly predicted as positive, defined as r.tp / r.p\n",
    "\n",
    "    true_negative_rate(r)\n",
    "the fraction of negative samples correctly predicted as negative, defined as r.tn / r.n\n",
    "\n",
    "    false_positive_rate(r)\n",
    "the fraction of negative samples incorrectly predicted as positive, defined as r.fp / r.n\n",
    "\n",
    "    false_negative_rate(r)\n",
    "the fraction of positive samples incorrectly predicted as negative, defined as r.fn / r.p\n",
    "\n",
    "    recall(r)\n",
    "Equivalent to true_positive_rate(r).\n",
    "\n",
    "    precision(r)\n",
    "the fraction of positive predictions that are correct, defined as r.tp / (r.tp + r.fp).\n",
    "\n",
    "    f1score(r)\n",
    "the harmonic mean of recall(r) and precision(r).\n",
    "\n",
    "    Computing ROC Curves\n",
    "The package provides a function roc to compute an instance of ROCNums or a sequence of such instances from predictions.\n",
    "\n",
    "    roc(gt, pred)\n",
    "Compute an ROC instance based on ground-truths given in gt and predictions given in pred.\n",
    "\n",
    "    roc(gt, scores, thres[, ord])\n",
    "Compute an ROC instance or an ROC curve (a vector of ROC instances), based on given scores and a threshold thres.\n",
    "\n",
    "Prediction will be made as follows:\n",
    "\n",
    "When ord = Forward: predicts 1 when scores[i] >= thres otherwise 0.\n",
    "When ord = Reverse: predicts 1 when scores[i] <= thres otherwise 0.\n",
    "When ord is omitted, it is defaulted to Forward.\n",
    "\n",
    "Returns:\n",
    "\n",
    "When thres is a single number, it produces a single ROCNums instance;\n",
    "When thres is a vector, it produces a vector of ROCNums instances.\n",
    "Note: Jointly evaluating an ROC curve for multiple thresholds is generally much faster than evaluating for them individually.\n",
    "\n",
    "    roc(gt, (preds, scores), thres[, ord])\n",
    "Compute an ROC instance or an ROC curve (a vector of ROC instances) for multi-class classification, based on given predictions, scores and a threshold thres.\n",
    "\n",
    "Prediction is made as follows:\n",
    "\n",
    "When ord = Forward: predicts preds[i] when scores[i] >= thres otherwise 0.\n",
    "When ord = Reverse: predicts preds[i] when scores[i] <= thres otherwise 0.\n",
    "When ord is omitted, it is defaulted to Forward.\n",
    "\n",
    "Returns:\n",
    "\n",
    "When thres is a single number, it produces a single ROCNums instance.\n",
    "When thres is a vector, it produces an ROC curve (a vector of ROCNums instances).\n",
    "Note: Jointly evaluating an ROC curve for multiple thresholds is generally much faster than evaluating for them individually.\n",
    "\n",
    "    roc(gt, scores, n[, ord])\n",
    "Compute an ROC curve (a vector of ROC instances), with respect to n evenly spaced thresholds from minimum(scores) and maximum(scores). (See above for details)\n",
    "\n",
    "    roc(gt, (preds, scores), n[, ord])\n",
    "Compute an ROC curve (a vector of ROC instances) for multi-class classification, with respect to n evenly spaced thresholds from minimum(scores) and maximum(scores). (See above for details)\n",
    "\n",
    "    roc(gt, scores, ord])\n",
    "Equivalent to roc(gt, scores, 100, ord).\n",
    "\n",
    "    roc(gt, (preds, scores), ord])\n",
    "Equivalent to roc(gt, (preds, scores), 100, ord).\n",
    "\n",
    "roc(gt, scores)\n",
    "Equivalent to roc(gt, scores, 100, Forward).\n",
    "\n",
    "    roc(gt, (preds, scores))\n",
    "Equivalent to roc(gt, (preds, scores), 100, Forward)."
   ]
  },
  {
   "cell_type": "markdown",
   "metadata": {},
   "source": [
    "### Cross Validation"
   ]
  },
  {
   "cell_type": "markdown",
   "metadata": {},
   "source": [
    "This package implements several cross validation schemes: Kfold, LOOCV, and RandomSub. Each scheme is an iterable object, of which each element is a vector of indices (indices of samples selected for training)."
   ]
  },
  {
   "cell_type": "code",
   "execution_count": 41,
   "metadata": {},
   "outputs": [
    {
     "name": "stdout",
     "output_type": "stream",
     "text": [
      "Any[[1, 2, 3, 4, 5, 7, 8], [1, 4, 5, 6, 9, 10], [2, 3, 6, 7, 8, 9, 10]]\n",
      "Any[[1, 2, 3, 4, 6, 9, 10], [2, 4, 5, 7, 8, 10], [1, 3, 5, 6, 7, 8, 9]]\n"
     ]
    }
   ],
   "source": [
    "println(collect(Kfold(10,3)))\n",
    "println(collect(StratifiedKfold([:a, :a, :a, :b, :b, :c, :c, :a, :b, :c], 3)))"
   ]
  },
  {
   "cell_type": "code",
   "execution_count": 42,
   "metadata": {},
   "outputs": [
    {
     "name": "stdout",
     "output_type": "stream",
     "text": [
      "Any[[2, 3, 4], [1, 3, 4], [1, 2, 4], [1, 2, 3]]\n"
     ]
    }
   ],
   "source": [
    "println(collect(LOOCV(4)))"
   ]
  },
  {
   "cell_type": "markdown",
   "metadata": {},
   "source": [
    "#### Cross Validation Function"
   ]
  },
  {
   "cell_type": "code",
   "execution_count": 81,
   "metadata": {},
   "outputs": [
    {
     "data": {
      "text/plain": [
       "compute_rmse (generic function with 1 method)"
      ]
     },
     "execution_count": 81,
     "metadata": {},
     "output_type": "execute_result"
    }
   ],
   "source": [
    "compute_center(X::Matrix{Float64}) = vec(mean(X, 2))\n",
    "\n",
    "compute_rmse(c::Vector{Float64}, X::Matrix{Float64}) =\n",
    "    sqrt(mean(sum((X .- c).^2,1)))"
   ]
  },
  {
   "cell_type": "code",
   "execution_count": 82,
   "metadata": {},
   "outputs": [
    {
     "name": "stderr",
     "output_type": "stream",
     "text": [
      "WARNING: redefining constant data\n"
     ]
    },
    {
     "data": {
      "text/plain": [
       "(2, 200)"
      ]
     },
     "execution_count": 82,
     "metadata": {},
     "output_type": "execute_result"
    }
   ],
   "source": [
    "const n = 200;\n",
    "const data = [2., 3.] .+ randn(2, n);\n",
    "size(data)"
   ]
  },
  {
   "cell_type": "code",
   "execution_count": 84,
   "metadata": {},
   "outputs": [
    {
     "name": "stderr",
     "output_type": "stream",
     "text": [
      "WARNING: Base.mean is deprecated: it has been moved to the standard library package `Statistics`.\n",
      "Add `using Statistics` to your imports.\n",
      "  likely near /home/ye/.julia/packages/IJulia/fDY4W/src/kernel.jl:38\n",
      "in #27 at In[84]\n",
      "┌ Warning: `mean(A::AbstractArray, dims)` is deprecated, use `mean(A, dims=dims)` instead.\n",
      "│   caller = compute_center at In[81]:1 [inlined]\n",
      "└ @ Core ./In[81]:1\n"
     ]
    },
    {
     "data": {
      "text/plain": [
       "(1.3726439255219731, 0.08732927326851335)"
      ]
     },
     "execution_count": 84,
     "metadata": {},
     "output_type": "execute_result"
    }
   ],
   "source": [
    "# cross validation\n",
    "scores = cross_validate(\n",
    "    inds -> compute_center(data[:, inds]),        # training function\n",
    "    (c, inds) -> compute_rmse(c, data[:, inds]),  # evaluation function\n",
    "    n,              # total number of samples\n",
    "    Kfold(n, 5))    # cross validation plan: 5-fold\n",
    "\n",
    "# get the mean and std of the scores\n",
    "(m, s) = mean_and_std(scores)"
   ]
  },
  {
   "cell_type": "code",
   "execution_count": 85,
   "metadata": {},
   "outputs": [
    {
     "data": {
      "text/plain": [
       "5-element Array{Float64,1}:\n",
       " 1.3527808936839616\n",
       " 1.46673009394385  \n",
       " 1.3403256129307248\n",
       " 1.4500184688600166\n",
       " 1.2533645581913124"
      ]
     },
     "execution_count": 85,
     "metadata": {},
     "output_type": "execute_result"
    }
   ],
   "source": [
    "scores"
   ]
  },
  {
   "cell_type": "markdown",
   "metadata": {
    "collapsed": true
   },
   "source": [
    "### Model Tuning"
   ]
  },
  {
   "cell_type": "markdown",
   "metadata": {},
   "source": [
    "Many machine learning algorithms and models come with design parameters that need to be set in advance. A widely adopted pratice is to search the parameters (usually through brute-force loops) that yields the best performance over a validation set. The package provides functions to facilitate this."
   ]
  },
  {
   "cell_type": "code",
   "execution_count": 4,
   "metadata": {},
   "outputs": [
    {
     "data": {
      "text/plain": [
       "10-element Array{Float64,1}:\n",
       "  2.226227661011305    \n",
       "  0.0007756233547431268\n",
       " -3.4052641342552734   \n",
       " -4.26789317180962     \n",
       "  3.8946387331021515   \n",
       "  4.387748145309897    \n",
       "  2.014636518685055    \n",
       "  4.782302415268727    \n",
       " -1.6258564204035715   \n",
       " -3.1582513985254472   "
      ]
     },
     "execution_count": 4,
     "metadata": {},
     "output_type": "execute_result"
    },
    {
     "name": "stderr",
     "output_type": "stream",
     "text": [
      "┌ Warning: Deprecated syntax `bias?`.\n",
      "│ Use `bias ?` instead.\n",
      "└ @ nothing none:3\n",
      "┌ Warning: Deprecated syntax `bias ?'('`.\n",
      "│ Use `bias ? '('` instead.\n",
      "└ @ nothing none:3\n",
      "┌ Warning: Deprecated syntax `bias ? (s[1:(end - 1)], s[end]):`.\n",
      "│ Use `bias ? (s[1:(end - 1)], s[end]) :` instead.\n",
      "└ @ nothing none:3\n",
      "┌ Warning: Deprecated syntax `bias ? (s[1:(end - 1)], s[end]) :(`.\n",
      "│ Use `bias ? (s[1:(end - 1)], s[end]) : (` instead.\n",
      "└ @ nothing none:3\n",
      "┌ Warning: Deprecated syntax `bias?`.\n",
      "│ Use `bias ?` instead.\n",
      "└ @ nothing none:2\n",
      "┌ Warning: Deprecated syntax `bias ?'('`.\n",
      "│ Use `bias ? '('` instead.\n",
      "└ @ nothing none:2\n",
      "┌ Warning: Deprecated syntax `bias ? (s[1:(end - 1)], s[end]):`.\n",
      "│ Use `bias ? (s[1:(end - 1)], s[end]) :` instead.\n",
      "└ @ nothing none:2\n",
      "┌ Warning: Deprecated syntax `bias ? (s[1:(end - 1)], s[end]) :(`.\n",
      "│ Use `bias ? (s[1:(end - 1)], s[end]) : (` instead.\n",
      "└ @ nothing none:2\n",
      "┌ Warning: Deprecated syntax `bias?`.\n",
      "│ Use `bias ?` instead.\n",
      "└ @ nothing none:3\n",
      "┌ Warning: Deprecated syntax `bias ?'('`.\n",
      "│ Use `bias ? '('` instead.\n",
      "└ @ nothing none:3\n",
      "┌ Warning: Deprecated syntax `bias ? (s[1:(end - 1)], s[end]):`.\n",
      "│ Use `bias ? (s[1:(end - 1)], s[end]) :` instead.\n",
      "└ @ nothing none:3\n",
      "┌ Warning: Deprecated syntax `bias ? (s[1:(end - 1)], s[end]) :(`.\n",
      "│ Use `bias ? (s[1:(end - 1)], s[end]) : (` instead.\n",
      "└ @ nothing none:3\n",
      "┌ Warning: Deprecated syntax `bias?`.\n",
      "│ Use `bias ?` instead.\n",
      "└ @ nothing none:2\n",
      "┌ Warning: Deprecated syntax `bias ?'('`.\n",
      "│ Use `bias ? '('` instead.\n",
      "└ @ nothing none:2\n",
      "┌ Warning: Deprecated syntax `bias ? (s[1:(end - 1)], s[end]):`.\n",
      "│ Use `bias ? (s[1:(end - 1)], s[end]) :` instead.\n",
      "└ @ nothing none:2\n",
      "┌ Warning: Deprecated syntax `bias ? (s[1:(end - 1)], s[end]) :(`.\n",
      "│ Use `bias ? (s[1:(end - 1)], s[end]) : (` instead.\n",
      "└ @ nothing none:2\n",
      "┌ Warning: Deprecated syntax `bias?`.\n",
      "│ Use `bias ?` instead.\n",
      "└ @ nothing none:3\n",
      "┌ Warning: Deprecated syntax `bias ?'('`.\n",
      "│ Use `bias ? '('` instead.\n",
      "└ @ nothing none:3\n",
      "┌ Warning: Deprecated syntax `bias ? (s[1:(end - 1)], s[end]):`.\n",
      "│ Use `bias ? (s[1:(end - 1)], s[end]) :` instead.\n",
      "└ @ nothing none:3\n",
      "┌ Warning: Deprecated syntax `bias ? (s[1:(end - 1)], s[end]) :(`.\n",
      "│ Use `bias ? (s[1:(end - 1)], s[end]) : (` instead.\n",
      "└ @ nothing none:3\n",
      "┌ Warning: Deprecated syntax `bias?`.\n",
      "│ Use `bias ?` instead.\n",
      "└ @ nothing none:2\n",
      "┌ Warning: Deprecated syntax `bias ?'('`.\n",
      "│ Use `bias ? '('` instead.\n",
      "└ @ nothing none:2\n",
      "┌ Warning: Deprecated syntax `bias ? (s[1:(end - 1)], s[end]):`.\n",
      "│ Use `bias ? (s[1:(end - 1)], s[end]) :` instead.\n",
      "└ @ nothing none:2\n",
      "┌ Warning: Deprecated syntax `bias ? (s[1:(end - 1)], s[end]) :(`.\n",
      "│ Use `bias ? (s[1:(end - 1)], s[end]) : (` instead.\n",
      "└ @ nothing none:2\n",
      "┌ Warning: Deprecated syntax `bias?`.\n",
      "│ Use `bias ?` instead.\n",
      "└ @ nothing none:3\n",
      "┌ Warning: Deprecated syntax `bias ?'('`.\n",
      "│ Use `bias ? '('` instead.\n",
      "└ @ nothing none:3\n",
      "┌ Warning: Deprecated syntax `bias ? (s[1:(end - 1)], s[end]):`.\n",
      "│ Use `bias ? (s[1:(end - 1)], s[end]) :` instead.\n",
      "└ @ nothing none:3\n",
      "┌ Warning: Deprecated syntax `bias ? (s[1:(end - 1)], s[end]) :(`.\n",
      "│ Use `bias ? (s[1:(end - 1)], s[end]) : (` instead.\n",
      "└ @ nothing none:3\n",
      "┌ Warning: Deprecated syntax `bias?`.\n",
      "│ Use `bias ?` instead.\n",
      "└ @ nothing none:2\n",
      "┌ Warning: Deprecated syntax `bias ?'('`.\n",
      "│ Use `bias ? '('` instead.\n",
      "└ @ nothing none:2\n",
      "┌ Warning: Deprecated syntax `bias ? (s[1:(end - 1)], s[end]):`.\n",
      "│ Use `bias ? (s[1:(end - 1)], s[end]) :` instead.\n",
      "└ @ nothing none:2\n",
      "┌ Warning: Deprecated syntax `bias ? (s[1:(end - 1)], s[end]) :(`.\n",
      "│ Use `bias ? (s[1:(end - 1)], s[end]) : (` instead.\n",
      "└ @ nothing none:2\n",
      "┌ Warning: Deprecated syntax `bias?`.\n",
      "│ Use `bias ?` instead.\n",
      "└ @ nothing none:3\n",
      "┌ Warning: Deprecated syntax `bias ?'('`.\n",
      "│ Use `bias ? '('` instead.\n",
      "└ @ nothing none:3\n",
      "┌ Warning: Deprecated syntax `bias ? (s[1:(end - 1)], s[end]):`.\n",
      "│ Use `bias ? (s[1:(end - 1)], s[end]) :` instead.\n",
      "└ @ nothing none:3\n",
      "┌ Warning: Deprecated syntax `bias ? (s[1:(end - 1)], s[end]) :(`.\n",
      "│ Use `bias ? (s[1:(end - 1)], s[end]) : (` instead.\n",
      "└ @ nothing none:3\n",
      "┌ Warning: Deprecated syntax `bias?`.\n",
      "│ Use `bias ?` instead.\n",
      "└ @ nothing none:2\n",
      "┌ Warning: Deprecated syntax `bias ?'('`.\n",
      "│ Use `bias ? '('` instead.\n",
      "└ @ nothing none:2\n",
      "┌ Warning: Deprecated syntax `bias ? (s[1:(end - 1)], s[end]):`.\n",
      "│ Use `bias ? (s[1:(end - 1)], s[end]) :` instead.\n",
      "└ @ nothing none:2\n",
      "┌ Warning: Deprecated syntax `bias ? (s[1:(end - 1)], s[end]) :(`.\n",
      "│ Use `bias ? (s[1:(end - 1)], s[end]) : (` instead.\n",
      "└ @ nothing none:2\n",
      "┌ Warning: Deprecated syntax `bias?`.\n",
      "│ Use `bias ?` instead.\n",
      "└ @ nothing none:3\n",
      "┌ Warning: Deprecated syntax `bias ?'('`.\n",
      "│ Use `bias ? '('` instead.\n",
      "└ @ nothing none:3\n",
      "┌ Warning: Deprecated syntax `bias ? (s[1:(end - 1)], s[end]):`.\n",
      "│ Use `bias ? (s[1:(end - 1)], s[end]) :` instead.\n",
      "└ @ nothing none:3\n",
      "┌ Warning: Deprecated syntax `bias ? (s[1:(end - 1)], s[end]) :(`.\n",
      "│ Use `bias ? (s[1:(end - 1)], s[end]) : (` instead.\n",
      "└ @ nothing none:3\n",
      "┌ Warning: Deprecated syntax `bias?`.\n",
      "│ Use `bias ?` instead.\n",
      "└ @ nothing none:2\n",
      "┌ Warning: Deprecated syntax `bias ?'('`.\n",
      "│ Use `bias ? '('` instead.\n",
      "└ @ nothing none:2\n",
      "┌ Warning: Deprecated syntax `bias ? (s[1:(end - 1)], s[end]):`.\n",
      "│ Use `bias ? (s[1:(end - 1)], s[end]) :` instead.\n",
      "└ @ nothing none:2\n",
      "┌ Warning: Deprecated syntax `bias ? (s[1:(end - 1)], s[end]) :(`.\n",
      "│ Use `bias ? (s[1:(end - 1)], s[end]) : (` instead.\n",
      "└ @ nothing none:2\n"
     ]
    }
   ],
   "source": [
    "n_tr=20\n",
    "n_te=10\n",
    "d=5\n",
    "\n",
    "theta=randn(d)\n",
    "X_tr=randn(n_tr,d)\n",
    "y_tr=X_tr*theta+0.1*randn(n_tr)\n",
    "X_te=randn(n_te,d)\n",
    "y_te=X_te*theta+0.1*randn(n_te)"
   ]
  },
  {
   "cell_type": "markdown",
   "metadata": {},
   "source": [
    "#### tune the model"
   ]
  },
  {
   "cell_type": "code",
   "execution_count": 9,
   "metadata": {},
   "outputs": [
    {
     "name": "stderr",
     "output_type": "stream",
     "text": [
      "WARNING: importing deprecated binding Base.cholfact! into MultivariateStats.\n",
      "WARNING: Base.cholfact! is deprecated: it has been moved to the standard library package `LinearAlgebra`.\n",
      "Add `using LinearAlgebra` to your imports.\n",
      "  likely near /home/ye/.julia/packages/IJulia/fDY4W/src/kernel.jl:38\n",
      "WARNING: Base.cholfact! is deprecated: it has been moved to the standard library package `LinearAlgebra`.\n",
      "Add `using LinearAlgebra` to your imports.\n",
      "  likely near /home/ye/.julia/packages/IJulia/fDY4W/src/kernel.jl:38\n",
      "WARNING: Base.cholfact! is deprecated: it has been moved to the standard library package `LinearAlgebra`.\n",
      "Add `using LinearAlgebra` to your imports.\n",
      "  likely near /home/ye/.julia/packages/IJulia/fDY4W/src/kernel.jl:38\n",
      "WARNING: Base.cholfact! is deprecated: it has been moved to the standard library package `LinearAlgebra`.\n",
      "Add `using LinearAlgebra` to your imports.\n",
      "  likely near /home/ye/.julia/packages/IJulia/fDY4W/src/kernel.jl:38\n",
      "WARNING: Base.cholfact! is deprecated: it has been moved to the standard library package `LinearAlgebra`.\n",
      "Add `using LinearAlgebra` to your imports.\n",
      "  likely near /home/ye/.julia/packages/IJulia/fDY4W/src/kernel.jl:38\n",
      "WARNING: Base.cholfact! is deprecated: it has been moved to the standard library package `LinearAlgebra`.\n",
      "Add `using LinearAlgebra` to your imports.\n",
      "  likely near /home/ye/.julia/packages/IJulia/fDY4W/src/kernel.jl:38\n",
      "WARNING: Base.cholfact! is deprecated: it has been moved to the standard library package `LinearAlgebra`.\n",
      "Add `using LinearAlgebra` to your imports.\n",
      "  likely near /home/ye/.julia/packages/IJulia/fDY4W/src/kernel.jl:38\n",
      "WARNING: Base.cholfact! is deprecated: it has been moved to the standard library package `LinearAlgebra`.\n",
      "Add `using LinearAlgebra` to your imports.\n",
      "  likely near /home/ye/.julia/packages/IJulia/fDY4W/src/kernel.jl:38\n",
      "WARNING: Base.cholfact! is deprecated: it has been moved to the standard library package `LinearAlgebra`.\n",
      "Add `using LinearAlgebra` to your imports.\n",
      "  likely near /home/ye/.julia/packages/IJulia/fDY4W/src/kernel.jl:38\n",
      "WARNING: Base.cholfact! is deprecated: it has been moved to the standard library package `LinearAlgebra`.\n",
      "Add `using LinearAlgebra` to your imports.\n",
      "  likely near /home/ye/.julia/packages/IJulia/fDY4W/src/kernel.jl:38\n",
      "WARNING: Base.cholfact! is deprecated: it has been moved to the standard library package `LinearAlgebra`.\n",
      "Add `using LinearAlgebra` to your imports.\n",
      "  likely near /home/ye/.julia/packages/IJulia/fDY4W/src/kernel.jl:38\n",
      "WARNING: Base.cholfact! is deprecated: it has been moved to the standard library package `LinearAlgebra`.\n",
      "Add `using LinearAlgebra` to your imports.\n",
      "  likely near /home/ye/.julia/packages/IJulia/fDY4W/src/kernel.jl:38\n",
      "WARNING: Base.cholfact! is deprecated: it has been moved to the standard library package `LinearAlgebra`.\n",
      "Add `using LinearAlgebra` to your imports.\n",
      "  likely near /home/ye/.julia/packages/IJulia/fDY4W/src/kernel.jl:38\n",
      "WARNING: Base.cholfact! is deprecated: it has been moved to the standard library package `LinearAlgebra`.\n",
      "Add `using LinearAlgebra` to your imports.\n",
      "  likely near /home/ye/.julia/packages/IJulia/fDY4W/src/kernel.jl:38\n",
      "WARNING: Base.cholfact! is deprecated: it has been moved to the standard library package `LinearAlgebra`.\n",
      "Add `using LinearAlgebra` to your imports.\n",
      "  likely near /home/ye/.julia/packages/IJulia/fDY4W/src/kernel.jl:38\n",
      "WARNING: Base.cholfact! is deprecated: it has been moved to the standard library package `LinearAlgebra`.\n",
      "Add `using LinearAlgebra` to your imports.\n",
      "  likely near /home/ye/.julia/packages/IJulia/fDY4W/src/kernel.jl:38\n",
      "WARNING: Base.cholfact! is deprecated: it has been moved to the standard library package `LinearAlgebra`.\n",
      "Add `using LinearAlgebra` to your imports.\n",
      "  likely near /home/ye/.julia/packages/IJulia/fDY4W/src/kernel.jl:38\n",
      "WARNING: Base.cholfact! is deprecated: it has been moved to the standard library package `LinearAlgebra`.\n",
      "Add `using LinearAlgebra` to your imports.\n",
      "  likely near /home/ye/.julia/packages/IJulia/fDY4W/src/kernel.jl:38\n",
      "WARNING: Base.cholfact! is deprecated: it has been moved to the standard library package `LinearAlgebra`.\n",
      "Add `using LinearAlgebra` to your imports.\n",
      "  likely near /home/ye/.julia/packages/IJulia/fDY4W/src/kernel.jl:38\n",
      "WARNING: Base.cholfact! is deprecated: it has been moved to the standard library package `LinearAlgebra`.\n",
      "Add `using LinearAlgebra` to your imports.\n",
      "  likely near /home/ye/.julia/packages/IJulia/fDY4W/src/kernel.jl:38\n",
      "WARNING: Base.cholfact! is deprecated: it has been moved to the standard library package `LinearAlgebra`.\n",
      "Add `using LinearAlgebra` to your imports.\n",
      "  likely near /home/ye/.julia/packages/IJulia/fDY4W/src/kernel.jl:38\n",
      "WARNING: Base.cholfact! is deprecated: it has been moved to the standard library package `LinearAlgebra`.\n",
      "Add `using LinearAlgebra` to your imports.\n",
      "  likely near /home/ye/.julia/packages/IJulia/fDY4W/src/kernel.jl:38\n",
      "WARNING: Base.cholfact! is deprecated: it has been moved to the standard library package `LinearAlgebra`.\n",
      "Add `using LinearAlgebra` to your imports.\n",
      "  likely near /home/ye/.julia/packages/IJulia/fDY4W/src/kernel.jl:38\n",
      "WARNING: Base.cholfact! is deprecated: it has been moved to the standard library package `LinearAlgebra`.\n",
      "Add `using LinearAlgebra` to your imports.\n",
      "  likely near /home/ye/.julia/packages/IJulia/fDY4W/src/kernel.jl:38\n",
      "WARNING: Base.cholfact! is deprecated: it has been moved to the standard library package `LinearAlgebra`.\n",
      "Add `using LinearAlgebra` to your imports.\n",
      "  likely near /home/ye/.julia/packages/IJulia/fDY4W/src/kernel.jl:38\n",
      "WARNING: Base.cholfact! is deprecated: it has been moved to the standard library package `LinearAlgebra`.\n",
      "Add `using LinearAlgebra` to your imports.\n",
      "  likely near /home/ye/.julia/packages/IJulia/fDY4W/src/kernel.jl:38\n",
      "WARNING: Base.cholfact! is deprecated: it has been moved to the standard library package `LinearAlgebra`.\n",
      "Add `using LinearAlgebra` to your imports.\n",
      "  likely near /home/ye/.julia/packages/IJulia/fDY4W/src/kernel.jl:38\n",
      "WARNING: Base.cholfact! is deprecated: it has been moved to the standard library package `LinearAlgebra`.\n",
      "Add `using LinearAlgebra` to your imports.\n",
      "  likely near /home/ye/.julia/packages/IJulia/fDY4W/src/kernel.jl:38\n",
      "WARNING: Base.cholfact! is deprecated: it has been moved to the standard library package `LinearAlgebra`.\n",
      "Add `using LinearAlgebra` to your imports.\n",
      "  likely near /home/ye/.julia/packages/IJulia/fDY4W/src/kernel.jl:38\n",
      "WARNING: Base.cholfact! is deprecated: it has been moved to the standard library package `LinearAlgebra`.\n",
      "Add `using LinearAlgebra` to your imports.\n",
      "  likely near /home/ye/.julia/packages/IJulia/fDY4W/src/kernel.jl:38\n",
      "WARNING: Base.cholfact! is deprecated: it has been moved to the standard library package `LinearAlgebra`.\n",
      "Add `using LinearAlgebra` to your imports.\n",
      "  likely near /home/ye/.julia/packages/IJulia/fDY4W/src/kernel.jl:38\n",
      "WARNING: Base.cholfact! is deprecated: it has been moved to the standard library package `LinearAlgebra`.\n",
      "Add `using LinearAlgebra` to your imports.\n",
      "  likely near /home/ye/.julia/packages/IJulia/fDY4W/src/kernel.jl:38\n",
      "WARNING: Base.cholfact! is deprecated: it has been moved to the standard library package `LinearAlgebra`.\n",
      "Add `using LinearAlgebra` to your imports.\n",
      "  likely near /home/ye/.julia/packages/IJulia/fDY4W/src/kernel.jl:38\n",
      "WARNING: Base.cholfact! is deprecated: it has been moved to the standard library package `LinearAlgebra`.\n",
      "Add `using LinearAlgebra` to your imports.\n",
      "  likely near /home/ye/.julia/packages/IJulia/fDY4W/src/kernel.jl:38\n",
      "WARNING: Base.cholfact! is deprecated: it has been moved to the standard library package `LinearAlgebra`.\n",
      "Add `using LinearAlgebra` to your imports.\n",
      "  likely near /home/ye/.julia/packages/IJulia/fDY4W/src/kernel.jl:38\n",
      "WARNING: Base.cholfact! is deprecated: it has been moved to the standard library package `LinearAlgebra`.\n",
      "Add `using LinearAlgebra` to your imports.\n",
      "  likely near /home/ye/.julia/packages/IJulia/fDY4W/src/kernel.jl:38\n",
      "WARNING: Base.cholfact! is deprecated: it has been moved to the standard library package `LinearAlgebra`.\n",
      "Add `using LinearAlgebra` to your imports.\n",
      "  likely near /home/ye/.julia/packages/IJulia/fDY4W/src/kernel.jl:38\n",
      "in _ridge at /home/ye/.julia/packages/MultivariateStats/wGpiN/src/lreg.jl\n",
      "WARNING: Base.cholfact! is deprecated: it has been moved to the standard library package `LinearAlgebra`.\n",
      "Add `using LinearAlgebra` to your imports.\n",
      "  likely near /home/ye/.julia/packages/IJulia/fDY4W/src/kernel.jl:38\n",
      "in _ridge at /home/ye/.julia/packages/MultivariateStats/wGpiN/src/lreg.jl\n",
      "WARNING: Base.cholfact! is deprecated: it has been moved to the standard library package `LinearAlgebra`.\n",
      "Add `using LinearAlgebra` to your imports.\n",
      "  likely near /home/ye/.julia/packages/IJulia/fDY4W/src/kernel.jl:38\n",
      "in _ridge at /home/ye/.julia/packages/MultivariateStats/wGpiN/src/lreg.jl\n",
      "WARNING: Base.cholfact! is deprecated: it has been moved to the standard library package `LinearAlgebra`.\n",
      "Add `using LinearAlgebra` to your imports.\n",
      "  likely near /home/ye/.julia/packages/IJulia/fDY4W/src/kernel.jl:38\n",
      "in _ridge at /home/ye/.julia/packages/MultivariateStats/wGpiN/src/lreg.jl\n",
      "┌ Warning: `cholfact!(A::StridedMatrix, ::Val{false}=Val(false))` is deprecated, use `cholesky!(A, Val(false))` instead.\n",
      "│   caller = cholfact!(::Array{Float64,2}) at deprecated.jl:54\n",
      "└ @ LinearAlgebra ./deprecated.jl:54\n",
      "┌ Warning: `a::AbstractArray + b::Number` is deprecated, use `a .+ b` instead.\n",
      "│   caller = evalfun(::Tuple{Array{Float64,1},Float64}) at In[9]:18\n",
      "└ @ Main ./In[9]:18\n"
     ]
    },
    {
     "name": "stdout",
     "output_type": "stream",
     "text": [
      "[regcoef=0.001, bias=true] => 0.00807470846846661\n",
      "[regcoef=0.01, bias=true] => 0.008203697061131415\n",
      "[regcoef=0.1, bias=true] => 0.010779005367060985\n",
      "[regcoef=1.0, bias=true] => 0.12127062093956756\n",
      "[regcoef=0.001, bias=false] => 0.00928425910227475\n",
      "[regcoef=0.01, bias=false] => 0.009469972323693572\n",
      "[regcoef=0.1, bias=false] => 0.01263230776712955\n",
      "[regcoef=1.0, bias=false] => 0.13184169983986588\n",
      "Best model:\n",
      "  a = [-0.528908 3.14287 -0.632566 -1.05288 0.287858]\n",
      "  b = 0.02059481292852652\n",
      "Best config: regcoef = 0.001, bias = true\n",
      "Best score: 0.00807470846846661\n"
     ]
    }
   ],
   "source": [
    "n_tr = 20  # number of training samples\n",
    "n_te = 10  # number of testing samples\n",
    "d = 5      # dimension of observations\n",
    "\n",
    "theta = randn(d)\n",
    "X_tr = randn(n_tr, d)\n",
    "y_tr = X_tr * theta + 0.1 * randn(n_tr)\n",
    "X_te = randn(n_te, d)\n",
    "y_te = X_te * theta + 0.1 * randn(n_te)\n",
    "\n",
    "## tune the model\n",
    "\n",
    "function estfun(regcoef, bias)\n",
    "    s = ridge(X_tr, y_tr, regcoef; bias=bias)\n",
    "    return bias ? (s[1:end-1], s[end]) : (s, 0.0)\n",
    "end\n",
    "\n",
    "evalfun(m) = msd(X_te * m[1] + m[2], y_te)\n",
    "\n",
    "r = gridtune(estfun, evalfun,\n",
    "            (\"regcoef\", [1.0e-3, 1.0e-2, 1.0e-1, 1.0]),\n",
    "            (\"bias\", (true, false));\n",
    "            ord=Reverse,    # smaller msd value indicates better model\n",
    "            verbose=true)   # show progress information\n",
    "\n",
    "best_model, best_cfg, best_score = r\n",
    "\n",
    "## print results\n",
    "\n",
    "a, b = best_model\n",
    "println(\"Best model:\")\n",
    "println(\"  a = $(a')\"),\n",
    "println(\"  b = $b\")\n",
    "println(\"Best config: regcoef = $(best_cfg[1]), bias = $(best_cfg[2])\")\n",
    "println(\"Best score: $(best_score)\")"
   ]
  },
  {
   "cell_type": "code",
   "execution_count": null,
   "metadata": {
    "collapsed": true
   },
   "outputs": [],
   "source": []
  }
 ],
 "metadata": {
  "kernelspec": {
   "display_name": "Julia 0.7.0",
   "language": "julia",
   "name": "julia-0.7"
  },
  "language_info": {
   "file_extension": ".jl",
   "mimetype": "application/julia",
   "name": "julia",
   "version": "0.7.0"
  }
 },
 "nbformat": 4,
 "nbformat_minor": 2
}
