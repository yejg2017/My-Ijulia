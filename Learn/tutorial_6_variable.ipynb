{
 "cells": [
  {
   "cell_type": "markdown",
   "metadata": {},
   "source": [
    "变量的作用域是变量可见的区域。变量作用域能帮助避免变量命名冲突。\n",
    "作用域块是作为变量作用域的代码区域。变量的作用域被限制在这些块内部。作用域块有：\n",
    "* function函数体（或语法）\n",
    "* while 循环体\n",
    "* for循环体\n",
    "* try块\n",
    "* catch 块\n",
    "* let块\n",
    "* type块\n",
    "\n",
    "\n",
    "\n",
    "注意begin块不能引入新作用域块。\n",
    "当变量被引入到一个作用域中时，所有的内部作用域都继承了这个变量，除非某个内部作用域显式复写了\n",
    "它。将新变量引入当前作用域的方法：\n",
    "* 声明local x 或const x ，可以引入新本地变量\n",
    "* 声明global x使得x 引入当前作用域和更内层的作用域\n",
    "* 函数的参数，作为新变量被引入函数体的作用域\n",
    "* 无论是在当前代码之前或之后， x = y 赋值都将引入新变量x ，除非x 已经在任何外层作用域内被\n",
    "声明为全局变量或被引入为本地变量"
   ]
  },
  {
   "cell_type": "code",
   "execution_count": 3,
   "metadata": {},
   "outputs": [
    {
     "data": {
      "text/plain": [
       "foo (generic function with 1 method)"
      ]
     },
     "execution_count": 3,
     "metadata": {},
     "output_type": "execute_result"
    }
   ],
   "source": [
    "function foo(n)\n",
    "    x=0\n",
    "    for i=1:n\n",
    "        x+=1\n",
    "    end\n",
    "    return x\n",
    "end\n",
    "\n",
    "# x仅存在与循环体内部"
   ]
  },
  {
   "cell_type": "code",
   "execution_count": 2,
   "metadata": {},
   "outputs": [
    {
     "data": {
      "text/plain": [
       "10"
      ]
     },
     "execution_count": 2,
     "metadata": {},
     "output_type": "execute_result"
    }
   ],
   "source": [
    "foo(10)"
   ]
  },
  {
   "cell_type": "code",
   "execution_count": 9,
   "metadata": {},
   "outputs": [
    {
     "data": {
      "text/plain": [
       "foo (generic function with 1 method)"
      ]
     },
     "execution_count": 9,
     "metadata": {},
     "output_type": "execute_result"
    }
   ],
   "source": [
    "function foo(n)\n",
    "    f= y -> n + x + y\n",
    "    x = 1\n",
    "    f(2)\n",
    "end"
   ]
  },
  {
   "cell_type": "code",
   "execution_count": 10,
   "metadata": {},
   "outputs": [
    {
     "data": {
      "text/plain": [
       "13"
      ]
     },
     "execution_count": 10,
     "metadata": {},
     "output_type": "execute_result"
    }
   ],
   "source": [
    "foo(10)"
   ]
  },
  {
   "cell_type": "markdown",
   "metadata": {},
   "source": [
    ":: 运算符跟在表达式上下文中的变量名后时，它声明变量应该是某个类型，有点儿类似于C 等静态语言\n",
    "中的类型声明。赋给这个变量的值会被convert 函数转换为所声明的类型"
   ]
  },
  {
   "cell_type": "code",
   "execution_count": 13,
   "metadata": {},
   "outputs": [
    {
     "data": {
      "text/plain": [
       "1000"
      ]
     },
     "execution_count": 13,
     "metadata": {},
     "output_type": "execute_result"
    }
   ],
   "source": [
    "function foo()\n",
    "    x::Int32=1000\n",
    "    return x\n",
    "end\n",
    "foo()"
   ]
  },
  {
   "cell_type": "code",
   "execution_count": 14,
   "metadata": {},
   "outputs": [
    {
     "data": {
      "text/plain": [
       "Int32"
      ]
     },
     "execution_count": 14,
     "metadata": {},
     "output_type": "execute_result"
    },
    {
     "name": "stderr",
     "output_type": "stream",
     "text": [
      "\n",
      "WARNING: deprecated syntax \"abstract Sin\".\n",
      "Use \"abstract type Sin end\" instead.\n",
      "\n",
      "WARNING: deprecated syntax \"abstract Singed<:Int\".\n",
      "Use \"abstract type Singed<:Int end\" instead.\n",
      "\n",
      "WARNING: deprecated syntax \"abstract Singed<:Inte\".\n",
      "Use \"abstract type Singed<:Inte end\" instead.\n"
     ]
    }
   ],
   "source": [
    "typeof(foo())"
   ]
  },
  {
   "cell_type": "markdown",
   "metadata": {},
   "source": [
    "#### 抽象类型\n",
    "\n",
    "抽象类型不能被实例化，它组织了类型等级关系，方便程序员编程\n",
    "\n",
    "\n",
    "abstract «name»  \n",
    "\n",
    "abstract «name» <: «supertype»\n",
    "\n",
    "abstract 关键字引入了新的抽象类型，类型名为«name» 。类型名后可跟<: 及已存在的类型，表明新声\n",
    "明的抽象类型是这个“父”类型的子类型。\n",
    "如果没有指明父类型，则父类型默认为Any ——所有对象和类型都是这个抽象类型的子类型。在类型理论\n",
    "中， Any 位于类型图的顶峰，被称为“顶”。Julia 也有预定义的抽象“底”类型，它位于类型图的最底处，被\n",
    "称为None。None``与``Any 对立：任何对象都不是None的实例，所有的类型都是None的父类型。"
   ]
  },
  {
   "cell_type": "code",
   "execution_count": 26,
   "metadata": {
    "collapsed": true
   },
   "outputs": [],
   "source": [
    "abstract type Singed<:Integer end\n",
    "abstract type FloatingPoint <: Real end"
   ]
  },
  {
   "cell_type": "code",
   "execution_count": 20,
   "metadata": {},
   "outputs": [
    {
     "data": {
      "text/plain": [
       "myplus (generic function with 1 method)"
      ]
     },
     "execution_count": 20,
     "metadata": {},
     "output_type": "execute_result"
    },
    {
     "name": "stderr",
     "output_type": "stream",
     "text": [
      "\n",
      "WARNING: deprecated syntax \"bitstype 16 Flo\".\n",
      "Use \"primitive type Flo 16 end\" instead.\n",
      "\n",
      "WARNING: deprecated syntax \"bitstype 16 Float16<:Flo\".\n",
      "Use \"primitive type Float16<:Flo 16 end\" instead.\n",
      "\n",
      "WARNING: deprecated syntax \"bitstype 16 Float16<:Floa\".\n",
      "Use \"primitive type Float16<:Floa 16 end\" instead.\n",
      "\n",
      "WARNING: deprecated syntax \"bitstype 16 Float16<:Floati\".\n",
      "Use \"primitive type Float16<:Floati 16 end\" instead.\n"
     ]
    }
   ],
   "source": [
    "function myplus(x::Int,y::Int)\n",
    "    return x+y\n",
    "end"
   ]
  },
  {
   "cell_type": "markdown",
   "metadata": {},
   "source": [
    "需要注意的一点是, 编写面向抽象类型的函数并不会带来性能上的损失, 因为每次调用函数时, 根据不同的参\n",
    "数组合, 函数总是要重新编译的"
   ]
  },
  {
   "cell_type": "markdown",
   "metadata": {},
   "source": [
    "##### 位类型"
   ]
  },
  {
   "cell_type": "markdown",
   "metadata": {},
   "source": [
    "位类型是具体类型，它的数据是由位构成的。整数和浮点数都是位类型"
   ]
  },
  {
   "cell_type": "code",
   "execution_count": 29,
   "metadata": {
    "collapsed": true
   },
   "outputs": [],
   "source": [
    "primitive type Float16<:FloatingPoint 16 end"
   ]
  },
  {
   "cell_type": "markdown",
   "metadata": {},
   "source": [
    "#### 复合类型\n",
    "\n",
    "复合类型也被称为记录、结构、或者对象。复合类型是变量名域的集合。它是Julia 中最常用的自定义类\n",
    "型。在Julia中，所有的值都是对象，但函数并不与它们所操作的对象绑定。Julia重载时，根据函数所有参\n",
    "数的类型，而不仅仅是第一个参数的类型，来选取调用哪个方法（"
   ]
  },
  {
   "cell_type": "code",
   "execution_count": 1,
   "metadata": {},
   "outputs": [
    {
     "data": {
      "text/plain": [
       "Foo(\"Hello, world.\", 23, 1.5)"
      ]
     },
     "execution_count": 1,
     "metadata": {},
     "output_type": "execute_result"
    }
   ],
   "source": [
    "type Foo\n",
    "    bar::AbstractString\n",
    "    baz::Int\n",
    "    qux::Float64\n",
    "end\n",
    "foo = Foo(\"Hello, world.\", 23, 1.5)"
   ]
  },
  {
   "cell_type": "code",
   "execution_count": 6,
   "metadata": {},
   "outputs": [
    {
     "name": "stdout",
     "output_type": "stream",
     "text": [
      "Hello, world.\n",
      "23\n",
      "1.5\n"
     ]
    }
   ],
   "source": [
    "println(foo.bar)\n",
    "println(foo.baz)\n",
    "println(foo.qux)"
   ]
  },
  {
   "cell_type": "markdown",
   "metadata": {},
   "source": [
    "##### 多元组类型"
   ]
  },
  {
   "cell_type": "code",
   "execution_count": 9,
   "metadata": {},
   "outputs": [
    {
     "data": {
      "text/plain": [
       "Tuple{Int64,String,Float64}"
      ]
     },
     "execution_count": 9,
     "metadata": {},
     "output_type": "execute_result"
    }
   ],
   "source": [
    "typeof((1,\"foo\",2.5))  #多元组的类型是类型的多元组"
   ]
  },
  {
   "cell_type": "code",
   "execution_count": 18,
   "metadata": {},
   "outputs": [
    {
     "name": "stdout",
     "output_type": "stream",
     "text": [
      "true\n",
      "true\n",
      "true\n"
     ]
    }
   ],
   "source": [
    "println(isa(Type(Float64),Type));\n",
    "println(isa(Float64,Type))\n",
    "println(isa(Real,Type))"
   ]
  },
  {
   "cell_type": "code",
   "execution_count": null,
   "metadata": {
    "collapsed": true
   },
   "outputs": [],
   "source": []
  }
 ],
 "metadata": {
  "kernelspec": {
   "display_name": "Julia 0.6.4",
   "language": "julia",
   "name": "julia-0.6"
  },
  "language_info": {
   "file_extension": ".jl",
   "mimetype": "application/julia",
   "name": "julia",
   "version": "0.6.4"
  }
 },
 "nbformat": 4,
 "nbformat_minor": 2
}
