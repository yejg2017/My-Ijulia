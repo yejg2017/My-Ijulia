{
 "cells": [
  {
   "cell_type": "markdown",
   "metadata": {},
   "source": [
    "#### 1.) Hello world\n",
    "\n",
    "With Julia installed and added to your path this script can be run by ** julia hello_world.jl ** , it can also be run from REPL by typing ** include(\"hello_world.jl\") **, that will evaluate all valid expressions in that file and return the last output."
   ]
  },
  {
   "cell_type": "code",
   "execution_count": 1,
   "metadata": {},
   "outputs": [
    {
     "name": "stdout",
     "output_type": "stream",
     "text": [
      "hello world\n"
     ]
    }
   ],
   "source": [
    "println(\"hello world\")"
   ]
  },
  {
   "cell_type": "markdown",
   "metadata": {},
   "source": [
    "#### 2) Simple Functions"
   ]
  },
  {
   "cell_type": "code",
   "execution_count": 2,
   "metadata": {},
   "outputs": [
    {
     "data": {
      "text/plain": [
       "quadratic2 (generic function with 1 method)"
      ]
     },
     "execution_count": 2,
     "metadata": {},
     "output_type": "execute_result"
    }
   ],
   "source": [
    "# function to caculate the volume of sphere\n",
    "function sphere_vol(r)\n",
    "    # so either \"pi\" or the symbol π can be used\n",
    "    return 4/3*pi*r^3\n",
    "end\n",
    "\n",
    "\n",
    "# function can also be defined more succinctly\n",
    "quadratic(a,sqr_term,b)=(-b+sqr_term)/2a\n",
    "\n",
    "\n",
    "function quadratic2(a::Float64,b::Float64,c::Float64)\n",
    "    sqr_term=sqrt(b^2-4*a*c)\n",
    "    r1=quadratic(a,sqr_term,b)\n",
    "    r2=quadratic(a,-sqr_term,b)\n",
    "    return r1,r2\n",
    "end"
   ]
  },
  {
   "cell_type": "code",
   "execution_count": 8,
   "metadata": {},
   "outputs": [
    {
     "name": "stdout",
     "output_type": "stream",
     "text": [
      "volume = 113.097\n",
      "result 1:3.0\n",
      "result 2:-2.0\n"
     ]
    }
   ],
   "source": [
    "using Printf\n",
    "vol=sphere_vol(3)\n",
    "Printf.@printf \"volume = %0.3f\\n\" vol \n",
    "\n",
    "\n",
    "quad1,quad2=quadratic2(2.0,-2.0,-12.0)\n",
    "println(\"result 1:\",quad1)\n",
    "println(\"result 2:\",quad2)"
   ]
  },
  {
   "cell_type": "markdown",
   "metadata": {},
   "source": [
    "#### 3) Strings Basics"
   ]
  },
  {
   "cell_type": "code",
   "execution_count": 11,
   "metadata": {},
   "outputs": [
    {
     "name": "stdout",
     "output_type": "stream",
     "text": [
      "The quick brown fox jumps over the lazy dog α,β,γ\n",
      "This\n",
      "and\n",
      "That \n",
      "welcome to julia\n",
      "1 + 2 = 3\n",
      "this and that\n",
      "this and that\n"
     ]
    }
   ],
   "source": [
    "s1 = \"The quick brown fox jumps over the lazy dog α,β,γ\"\n",
    "println(s1)\n",
    "\n",
    "println(\"This\")\n",
    "println(\"and\")\n",
    "print(\"That \\n\")\n",
    "\n",
    "\n",
    "a=\"welcome\"\n",
    "b=\"julia\"\n",
    "println(\"$a to $b\")\n",
    "println(\"1 + 2 = $(1 + 2)\")\n",
    "\n",
    "s2 = \"this\" * \" and\" * \" that\"\n",
    "println(s2)\n",
    "#> this and that\n",
    "\n",
    "# as well as the string function\n",
    "s3 = string(\"this\", \" and\", \" that\")\n",
    "println(s3)"
   ]
  },
  {
   "cell_type": "markdown",
   "metadata": {},
   "source": [
    "#### 4)String: Converting and formatting"
   ]
  },
  {
   "cell_type": "code",
   "execution_count": 12,
   "metadata": {},
   "outputs": [
    {
     "name": "stdout",
     "output_type": "stream",
     "text": [
      "13.59\n"
     ]
    },
    {
     "name": "stderr",
     "output_type": "stream",
     "text": [
      "┌ Warning: `float(x::AbstractString)` is deprecated, use `parse(Float64, x)` instead.\n",
      "│   caller = top-level scope at none:0\n",
      "└ @ Core none:0\n"
     ]
    },
    {
     "name": "stdout",
     "output_type": "stream",
     "text": [
      "45\n"
     ]
    }
   ],
   "source": [
    "# strings can be converted using float and int:\n",
    "e_str1 = \"2.718\"\n",
    "e = float(e_str1)\n",
    "\n",
    "println(5e)\n",
    "num_15 = parse(Int, \"15\")\n",
    "println(3num_15)"
   ]
  },
  {
   "cell_type": "code",
   "execution_count": 14,
   "metadata": {},
   "outputs": [
    {
     "name": "stdout",
     "output_type": "stream",
     "text": [
      "e=2.72\n",
      "e_str1 == e_str2: true\n",
      "fix trailing precision: 3.142\n",
      "scientific form: 3.141593e+03\n",
      "a character: α\n",
      "a string: look I'm a string!\n",
      "right justify a string:                    width 50, text right justified!\n",
      "a pointer: 0x0000000005f5e100\n",
      "print a integer: 10000000000\n"
     ]
    }
   ],
   "source": [
    "Printf.@printf \"e=%0.2f\\n\" e\n",
    "e_str2 =Printf.@sprintf(\"%0.3f\", e)\n",
    "println(\"e_str1 == e_str2: $(e_str1 == e_str2)\")\n",
    "\n",
    "\n",
    "Printf.@printf \"fix trailing precision: %0.3f\\n\" float(pi)\n",
    "#> fix trailing precision: 3.142\n",
    "Printf.@printf \"scientific form: %0.6e\\n\" 1000pi\n",
    "#> scientific form: 3.141593e+03\n",
    "# g is not implemented yet\n",
    "Printf.@printf \"a character: %c\\n\" 'α'\n",
    "#> a character: α\n",
    "Printf.@printf \"a string: %s\\n\" \"look I'm a string!\"\n",
    "#> a string: look I'm a string!\n",
    "Printf.@printf \"right justify a string: %50s\\n\" \"width 50, text right justified!\"\n",
    "#> right justify a string:                    width 50, text right justified!\n",
    "Printf.@printf \"a pointer: %p\\n\" 100000000\n",
    "#> a pointer: 0x0000000005f5e100\n",
    "Printf.@printf \"print a integer: %d\\n\" 1e10"
   ]
  },
  {
   "cell_type": "markdown",
   "metadata": {},
   "source": [
    "#### 5)String Manipulations"
   ]
  },
  {
   "cell_type": "code",
   "execution_count": 25,
   "metadata": {},
   "outputs": [
    {
     "name": "stdout",
     "output_type": "stream",
     "text": [
      "11\n",
      "11:15\n",
      "\"The quick red fox jumps over the lazy dog α,β,γ\"\n",
      "11:15\n",
      "\"The quick red fox jumps over the lazy dog α,β,γ\"\n",
      "RegexMatch("
     ]
    },
    {
     "name": "stderr",
     "output_type": "stream",
     "text": [
      "┌ Warning: `findfirst(A, v)` is deprecated, use `something(findfirst(isequal(v), A), 0)` instead.\n",
      "│   caller = top-level scope at none:0\n",
      "└ @ Core none:0\n",
      "┌ Warning: `search(s::AbstractString, t::AbstractString)` is deprecated, use `something(findfirst(t, s), 0:-1)` instead.\n",
      "│   caller = top-level scope at none:0\n",
      "└ @ Core none:0\n",
      "┌ Warning: `replace(s::AbstractString, pat, f)` is deprecated, use `replace(s, pat => f)` instead.\n",
      "│   caller = top-level scope at none:0\n",
      "└ @ Core none:0\n",
      "┌ Warning: `search(s::AbstractString, r::Regex)` is deprecated, use `something(findfirst(r, s), 0:-1)` instead.\n",
      "│   caller = top-level scope at none:0\n",
      "└ @ Core none:0\n",
      "┌ Warning: `replace(s::AbstractString, pat, f)` is deprecated, use `replace(s, pat => f)` instead.\n",
      "│   caller = top-level scope at none:0\n",
      "└ @ Core none:0\n"
     ]
    },
    {
     "name": "stdout",
     "output_type": "stream",
     "text": [
      "\"brown\")\n"
     ]
    }
   ],
   "source": [
    "s1 = \"The quick brown fox jumps over the lazy dog α,β,γ\"\n",
    "i=findfirst(s1,'b')\n",
    "println(i)\n",
    "\n",
    "r=search(s1,\"brown\")\n",
    "println(r)\n",
    "\n",
    "\n",
    "# replace\n",
    "r = replace(s1, \"brown\", \"red\")\n",
    "show(r); println()\n",
    "\n",
    "\n",
    "# search and replace can also take a regular expressions by preceding the string with 'r'\n",
    "r=search(s1,r\"b[\\w]*n\")\n",
    "println(r)\n",
    "\n",
    "# again with a regular expression\n",
    "r = replace(s1, r\"b[\\w]*n\", \"red\")\n",
    "show(r); println()\n",
    "\n",
    "\n",
    "# there are also functions for regular expressions that return RegexMatch types\n",
    "# match scans left to right for the first match (specified starting index optional)\n",
    "r = match(r\"b[\\w]*n\", s1)\n",
    "println(r)"
   ]
  },
  {
   "cell_type": "code",
   "execution_count": 34,
   "metadata": {},
   "outputs": [
    {
     "name": "stdout",
     "output_type": "stream",
     "text": [
      "\"hello hello hello \"\n",
      "\"hello\"\n",
      "SubString{String}[\"hello\", \" there\", \"bob\"]\n",
      "SubString{String}[\"hello\", \"there\", \"bob\"]\n",
      "1, 2, 3, 4, 5, 6, 7, 8, 9, 10\n"
     ]
    }
   ],
   "source": [
    "r=\"hello \"^3\n",
    "show(r); println()\n",
    "\n",
    "r=strip(\"hello \")\n",
    "show(r);println()\n",
    "\n",
    "r = split(\"hello, there,bob\", ',')\n",
    "show(r); println() #> [\"hello\",\" there\",\"bob\"]\n",
    "\n",
    "\n",
    "r = split(\"hello, there,bob\", [',', ' '], limit=0, keep=false)\n",
    "show(r); println() #> [\"hello\",\"there\",\"bob\"]\n",
    "\n",
    "\n",
    "r = join(collect(1:10), \", \")\n",
    "println(r)"
   ]
  },
  {
   "cell_type": "markdown",
   "metadata": {},
   "source": [
    "#### 6) Arrays"
   ]
  },
  {
   "cell_type": "code",
   "execution_count": 41,
   "metadata": {},
   "outputs": [
    {
     "name": "stdout",
     "output_type": "stream",
     "text": [
      "3-element Array{Int64,1}: [1, 2, 3]\n",
      "20-element Array{Int64,1}: [1, 2, 3, 4, 5, 6, 7, 8, 9, 10, 11, 12, 13, 14, 15, 16, 17, 18, 19, 20]\n",
      "10-element Array{Int64,1}: [2, 4, 8, 16, 32, 64, 128, 256, 512, 1024]\n",
      "4-element Array{Int64,1}: [1, 2, 3, 4]\n"
     ]
    },
    {
     "data": {
      "text/plain": [
       "7-element Array{Int64,1}:\n",
       " 1\n",
       " 2\n",
       " 3\n",
       " 4\n",
       " 5\n",
       " 6\n",
       " 7"
      ]
     },
     "execution_count": 41,
     "metadata": {},
     "output_type": "execute_result"
    }
   ],
   "source": [
    "function printsum(a)\n",
    "    println(summary(a),\": \",repr(a))\n",
    "end\n",
    "\n",
    "a1=[1,2,3]\n",
    "printsum(a1)\n",
    "\n",
    "a2=collect(1:20)\n",
    "printsum(a2)\n",
    "\n",
    "a3=[2^i for i=1:10]\n",
    "printsum(a3)\n",
    "\n",
    "push!(a1,4)\n",
    "printsum(a1)\n",
    "\n",
    "append!(a1,[5,6,7])"
   ]
  },
  {
   "cell_type": "markdown",
   "metadata": {},
   "source": [
    "push! :similiar append function"
   ]
  },
  {
   "cell_type": "code",
   "execution_count": 42,
   "metadata": {},
   "outputs": [
    {
     "name": "stdout",
     "output_type": "stream",
     "text": [
      "14-element Array{Int64,1}: [1, 1, 2, 2, 3, 3, 4, 4, 5, 5, 6, 6, 7, 7]\n"
     ]
    },
    {
     "name": "stderr",
     "output_type": "stream",
     "text": [
      "┌ Warning: Deprecated syntax ``?` used as an identifier`.\n",
      "└ @ nothing none:1\n"
     ]
    }
   ],
   "source": [
    "a4=repeat(a1,inner=[2],outer=[1])\n",
    "printsum(a4)"
   ]
  },
  {
   "cell_type": "markdown",
   "metadata": {},
   "source": [
    "#### 7) Error Handing"
   ]
  },
  {
   "cell_type": "code",
   "execution_count": 44,
   "metadata": {},
   "outputs": [
    {
     "name": "stdout",
     "output_type": "stream",
     "text": [
      "Contuning after error\n"
     ]
    }
   ],
   "source": [
    "a=[]\n",
    "try\n",
    "    push!(a,1)\n",
    "catch err\n",
    "    showerror(TDOUT, err, backtrace());println()\n",
    "end\n",
    "println(\"Contuning after error\")\n"
   ]
  },
  {
   "cell_type": "markdown",
   "metadata": {},
   "source": [
    "#### 8) Loops and Map"
   ]
  },
  {
   "cell_type": "code",
   "execution_count": 54,
   "metadata": {},
   "outputs": [
    {
     "name": "stdout",
     "output_type": "stream",
     "text": [
      "1 2 3 4 5 \n"
     ]
    },
    {
     "name": "stderr",
     "output_type": "stream",
     "text": [
      "┌ Warning: Deprecated syntax `implicit assignment to global variable `i``.\n",
      "│ Use `global i` instead.\n",
      "└ @ nothing none:0\n",
      "┌ Warning: Loop variable `i` overwrites a variable in an enclosing scope. In the future the variable will be local to the loop instead.\n",
      "└ @ nothing none:0\n",
      "┌ Warning: Deprecated syntax `implicit assignment to global variable `i``.\n",
      "│ Use `global i` instead.\n",
      "└ @ nothing none:0\n",
      "┌ Warning: Loop variable `i` overwrites a variable in an enclosing scope. In the future the variable will be local to the loop instead.\n",
      "└ @ nothing none:0\n"
     ]
    },
    {
     "name": "stdout",
     "output_type": "stream",
     "text": [
      "1, 2, 3, 4, \n",
      "2, 4, 6, 8, \n"
     ]
    },
    {
     "name": "stderr",
     "output_type": "stream",
     "text": [
      "┌ Warning: Deprecated syntax `implicit assignment to global variable `i``.\n",
      "│ Use `global i` instead.\n",
      "└ @ nothing none:0\n",
      "┌ Warning: Loop variable `i` overwrites a variable in an enclosing scope. In the future the variable will be local to the loop instead.\n",
      "└ @ nothing none:0\n"
     ]
    }
   ],
   "source": [
    "for i=1:5\n",
    "    print(i,\" \")\n",
    "end\n",
    "println()\n",
    "\n",
    "\n",
    "a1=[1,2,3,4]\n",
    "for i in a1\n",
    "    print(i,\", \")\n",
    "end\n",
    "println()\n",
    "\n",
    "\n",
    "a2=collect(1:20)\n",
    "for i in a2\n",
    "    if i%2 !=0\n",
    "        continue\n",
    "    end\n",
    "    print(i,\", \")\n",
    "    if i>=8\n",
    "        break\n",
    "    end\n",
    "end\n",
    "println()"
   ]
  },
  {
   "cell_type": "code",
   "execution_count": 58,
   "metadata": {},
   "outputs": [
    {
     "name": "stdout",
     "output_type": "stream",
     "text": [
      "1: one, 2: two, 3: three, \n",
      "[1, 4, 9, 49]"
     ]
    },
    {
     "name": "stderr",
     "output_type": "stream",
     "text": [
      "┌ Warning: Deprecated syntax `type`.\n",
      "│ Use `mutable struct` instead.\n",
      "└ @ nothing none:1\n",
      "┌ Warning: Deprecated syntax `type`.\n",
      "│ Use `mutable struct` instead.\n",
      "└ @ nothing none:1\n",
      "┌ Warning: Deprecated syntax `type`.\n",
      "│ Use `mutable struct` instead.\n",
      "└ @ nothing none:1\n",
      "┌ Warning: Deprecated syntax `type`.\n",
      "│ Use `mutable struct` instead.\n",
      "└ @ nothing none:1\n",
      "┌ Warning: Deprecated syntax `type`.\n",
      "│ Use `mutable struct` instead.\n",
      "└ @ nothing none:1\n",
      "┌ Warning: Deprecated syntax `type`.\n",
      "│ Use `mutable struct` instead.\n",
      "└ @ nothing none:1\n",
      "┌ Warning: Deprecated syntax `type`.\n",
      "│ Use `mutable struct` instead.\n",
      "└ @ nothing none:1\n",
      "┌ Warning: Deprecated syntax `type`.\n",
      "│ Use `mutable struct` instead.\n",
      "└ @ nothing none:1\n",
      "┌ Warning: Deprecated syntax `type`.\n",
      "│ Use `mutable struct` instead.\n",
      "└ @ nothing none:1\n",
      "┌ Warning: Deprecated syntax `type`.\n",
      "│ Use `mutable struct` instead.\n",
      "└ @ nothing none:1\n",
      "┌ Warning: Deprecated syntax `type`.\n",
      "│ Use `mutable struct` instead.\n",
      "└ @ nothing none:1\n"
     ]
    }
   ],
   "source": [
    "d1=Dict(1=>\"one\",2=>\"two\",3=>\"three\")\n",
    "for k in sort(collect(keys(d1)))\n",
    "    print(k, \": \", d1[k], \", \")\n",
    "end\n",
    "println()\n",
    "\n",
    "\n",
    "a4 = map((x) -> x^2, [1, 2, 3, 7])\n",
    "print(a4) #> [1, 4, 9, 49]"
   ]
  },
  {
   "cell_type": "markdown",
   "metadata": {},
   "source": [
    "#### 9)Types\n",
    "Types are a key way of structuring data within Julia."
   ]
  },
  {
   "cell_type": "code",
   "execution_count": 64,
   "metadata": {},
   "outputs": [
    {
     "name": "stdout",
     "output_type": "stream",
     "text": [
      "Person:Person(\"Julia\", false, 4.0, 0)\n"
     ]
    },
    {
     "name": "stderr",
     "output_type": "stream",
     "text": [
      "┌ Warning: Deprecated syntax `type` at In[64]:1.\n",
      "│ Use `mutable struct` instead.\n",
      "└ @ nothing In[64]:1\n"
     ]
    },
    {
     "name": "stdout",
     "output_type": "stream",
     "text": [
      "2-element Array{Person,1}: Person[Person(\"Steve\", true, 42.0, 0), Person(\"Jade\", false, 17.0, 3)]\n"
     ]
    },
    {
     "name": "stderr",
     "output_type": "stream",
     "text": [
      "┌ Warning: Deprecated syntax `type`.\n",
      "│ Use `mutable struct` instead.\n",
      "└ @ nothing none:1\n",
      "┌ Warning: Deprecated syntax `type`.\n",
      "│ Use `mutable struct` instead.\n",
      "└ @ nothing none:1\n",
      "┌ Warning: Deprecated syntax `type`.\n",
      "│ Use `mutable struct` instead.\n",
      "└ @ nothing none:1\n",
      "┌ Warning: Deprecated syntax `type`.\n",
      "│ Use `mutable struct` instead.\n",
      "└ @ nothing none:1\n",
      "┌ Warning: Deprecated syntax `type`.\n",
      "│ Use `mutable struct` instead.\n",
      "└ @ nothing none:1\n",
      "┌ Warning: Deprecated syntax `type`.\n",
      "│ Use `mutable struct` instead.\n",
      "└ @ nothing none:1\n",
      "┌ Warning: Deprecated syntax `type`.\n",
      "│ Use `mutable struct` instead.\n",
      "└ @ nothing none:1\n",
      "┌ Warning: Deprecated syntax `type`.\n",
      "│ Use `mutable struct` instead.\n",
      "└ @ nothing none:1\n",
      "┌ Warning: Deprecated syntax `type`.\n",
      "│ Use `mutable struct` instead.\n",
      "└ @ nothing none:1\n"
     ]
    }
   ],
   "source": [
    "type Person\n",
    "    name::AbstractString\n",
    "    male::Bool\n",
    "    age::Float64\n",
    "    children::Int\n",
    "end\n",
    "\n",
    "p=Person(\"Julia\",false,4,0)\n",
    "println(summary(p),\":\",repr(p))\n",
    "\n",
    "\n",
    "\n",
    "people = Person[]\n",
    "push!(people, Person(\"Steve\", true, 42, 0))\n",
    "push!(people, Person(\"Jade\", false, 17, 3))\n",
    "printsum(people)"
   ]
  },
  {
   "cell_type": "code",
   "execution_count": null,
   "metadata": {
    "collapsed": true
   },
   "outputs": [],
   "source": [
    "type Family\n",
    "    name::AbstractString\n",
    "    members::Array{AbstractString,1}\n",
    "    extended::Bool\n",
    "    \n",
    "    # constructor that takes one argument and generates a default\n",
    "    # for the other two values\n",
    "    Family(name::AbstractString)=new(name,AbstractString[],false)\n",
    "    \n",
    "    # constructor that takes two arguements and infers the third\n",
    "    Family(name::AbstractString, members) = new(name, members, length(members) > 3)\n",
    "end\n"
   ]
  }
 ],
 "metadata": {
  "kernelspec": {
   "display_name": "Julia 0.7.0",
   "language": "julia",
   "name": "julia-0.7"
  },
  "language_info": {
   "file_extension": ".jl",
   "mimetype": "application/julia",
   "name": "julia",
   "version": "0.7.0"
  }
 },
 "nbformat": 4,
 "nbformat_minor": 2
}
